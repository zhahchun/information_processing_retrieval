{
 "cells": [
  {
   "cell_type": "code",
   "execution_count": 36,
   "id": "cf61f59d",
   "metadata": {},
   "outputs": [
    {
     "name": "stdout",
     "output_type": "stream",
     "text": [
      "{}\n",
      "{'one': 'uno'}\n",
      "{'size': 'fat', 'color': 'gray', 'disposition': 'loud'}\n",
      "3\n",
      "{'size': 'fat', 'color': 'gray', 'disposition': 'loud', 1.2: 'version'}\n"
     ]
    }
   ],
   "source": [
    "# key-value pair, item, mapping\n",
    "eng2spn = dict()\n",
    "print(eng2spn)\n",
    "# add item\n",
    "eng2spn['one'] = 'uno'\n",
    "print(eng2spn)\n",
    "\n",
    "myCat = {'size': 'fat', 'color': 'gray', 'disposition': 'loud'}\n",
    "print(myCat)\n",
    "print(len(myCat))\n",
    "\n",
    "# valid key type: (immutable) string, number, float, tuple\n",
    "myCat[1.2] = 'version'\n",
    "print(myCat)"
   ]
  },
  {
   "cell_type": "code",
   "execution_count": 27,
   "id": "a2b0ad74",
   "metadata": {},
   "outputs": [
    {
     "name": "stdout",
     "output_type": "stream",
     "text": [
      "[('color', 'gray'), ('disposition', 'loud'), ('size', 'fat')]\n",
      "gray\n"
     ]
    },
    {
     "data": {
      "text/plain": [
       "'sad is not in the dictionary.'"
      ]
     },
     "execution_count": 27,
     "metadata": {},
     "output_type": "execute_result"
    }
   ],
   "source": [
    "# not ordered --> can't be sliced\n",
    "# sorted\n",
    "print(sorted(myCat.items()))\n",
    "\n",
    "# lookup\n",
    "print(myCat['color'])\n",
    "# reverse lookup\n",
    "def reverse_lookup(d, v):\n",
    "    for k in d:\n",
    "        if d[k] == v:\n",
    "            return k\n",
    "        else:\n",
    "            return '{} is not in the dictionary.'.format(v)\n",
    "reverse_lookup(myCat, 'sad')"
   ]
  },
  {
   "cell_type": "code",
   "execution_count": 3,
   "id": "7ec3be2f",
   "metadata": {},
   "outputs": [
    {
     "name": "stdout",
     "output_type": "stream",
     "text": [
      "Enter a name: (blank to quit) Jay\n",
      "I do not have birthday information for Jay\n",
      "What is their birthday? June 22\n",
      "Birthday database updated.\n",
      "Enter a name: (blank to quit) Jay\n",
      "June 22 is the birthday of Jay\n",
      "Enter a name: (blank to quit) \n"
     ]
    }
   ],
   "source": [
    "birthdays = {'Alice': 'Apr 1', 'Bob': 'Dec 12', 'Carol': 'Mar 4'}\n",
    "\n",
    "while True:\n",
    "    name = input('Enter a name: (blank to quit) ')\n",
    "    if name == '':\n",
    "        break\n",
    "    \n",
    "    if name in birthdays:\n",
    "        print(birthdays[name] + ' is the birthday of ' + name)\n",
    "    else:\n",
    "        print('I do not have birthday information for ' + name)\n",
    "        bday = input('What is their birthday? ')\n",
    "        birthdays[name] = bday\n",
    "        print('Birthday database updated.')"
   ]
  },
  {
   "cell_type": "code",
   "execution_count": 5,
   "id": "f77310b4",
   "metadata": {},
   "outputs": [
    {
     "name": "stdout",
     "output_type": "stream",
     "text": [
      "red, 42, color, age, color red, age 42, "
     ]
    }
   ],
   "source": [
    "#  dict.keys(), values(), items()\n",
    "spam = {'color': 'red', 'age': 42}\n",
    "for v in spam.values():\n",
    "    print(v, end = ', ')\n",
    "for k in spam.keys():\n",
    "    print(k, end = ', ')\n",
    "for k, v in spam.items(): # tuple unpacking\n",
    "    print(k, v, end = ', ')"
   ]
  },
  {
   "cell_type": "code",
   "execution_count": 6,
   "id": "3db5f2c9",
   "metadata": {},
   "outputs": [
    {
     "name": "stdout",
     "output_type": "stream",
     "text": [
      "dict_values(['red', 42])\n",
      "['red', 42]\n"
     ]
    }
   ],
   "source": [
    "print(spam.values())\n",
    "print(list(spam.values()))"
   ]
  },
  {
   "cell_type": "code",
   "execution_count": 7,
   "id": "27ad29c1",
   "metadata": {},
   "outputs": [
    {
     "name": "stdout",
     "output_type": "stream",
     "text": [
      "True\n",
      "True\n",
      "False\n",
      "True\n",
      "False\n"
     ]
    }
   ],
   "source": [
    "# in, not in \n",
    "spam = {'name': 'Zophie', 'age': 7}\n",
    "print('name' in spam)\n",
    "print('name' in spam.keys())\n",
    "print('Zophie' in spam)\n",
    "print('Zophie' in spam.values())\n",
    "print('Becky' in spam.values())"
   ]
  },
  {
   "cell_type": "code",
   "execution_count": 37,
   "id": "6815da45",
   "metadata": {},
   "outputs": [
    {
     "name": "stdout",
     "output_type": "stream",
     "text": [
      "I am bringing 2 cups.\n",
      "I am bringing 0 eggs.\n",
      "I am bringing None eggs.\n"
     ]
    }
   ],
   "source": [
    "# dict.get(key_name, if_not_return_value)\n",
    "picnicItems = {'apples': 5, 'cups': 2}\n",
    "print('I am bringing ' + str(picnicItems.get('cups', 0)) + ' cups.')\n",
    "print('I am bringing ' + str(picnicItems.get('eggs', 0)) + ' eggs.')\n",
    "print('I am bringing ' + str(picnicItems.get('eggs')) + ' eggs.')"
   ]
  },
  {
   "cell_type": "code",
   "execution_count": 3,
   "id": "c443fed0",
   "metadata": {},
   "outputs": [
    {
     "name": "stdout",
     "output_type": "stream",
     "text": [
      "black\n",
      "{'name': 'Pooka', 'age': 5, 'color': 'black'}\n",
      "black\n"
     ]
    }
   ],
   "source": [
    "# dict.setdefault(check_if_key_name, if_not,_set_value) --> if key_name exists, return its value\n",
    "spam = {'name': 'Pooka', 'age': 5}\n",
    "print(spam.setdefault('color', 'black'))\n",
    "print(spam)\n",
    "print(spam.setdefault('color', 'white'))"
   ]
  },
  {
   "cell_type": "code",
   "execution_count": 38,
   "id": "7ef421fd",
   "metadata": {},
   "outputs": [
    {
     "name": "stdout",
     "output_type": "stream",
     "text": [
      "{'first': 'A', 'last': 'K', 'suffix': 'Jr.'}\n"
     ]
    }
   ],
   "source": [
    "# dict.update(dict) --> set several pairs at once\n",
    "a = {'first': 'A', 'last': 'Z'}\n",
    "b = {'last': 'K', 'suffix': 'Jr.'}\n",
    "a.update(b)\n",
    "print(a)"
   ]
  },
  {
   "cell_type": "code",
   "execution_count": 5,
   "id": "c4523953",
   "metadata": {},
   "outputs": [
    {
     "name": "stdout",
     "output_type": "stream",
     "text": [
      "{'I': 1, 't': 6, ' ': 13, 'w': 2, 'a': 4, 's': 3, 'b': 1, 'r': 5, 'i': 6, 'g': 2, 'h': 3, 'c': 3, 'o': 2, 'l': 3, 'd': 3, 'y': 1, 'n': 4, 'A': 1, 'p': 1, ',': 1, 'e': 5, 'k': 2, '.': 1}\n"
     ]
    }
   ],
   "source": [
    "message = 'It was a bright cold day in April, and the clocks were striking thirteen.'\n",
    "count = {}\n",
    "for c in message:\n",
    "    count.setdefault(c, 0)\n",
    "    count[c] += 1\n",
    "\n",
    "print(count)"
   ]
  },
  {
   "cell_type": "code",
   "execution_count": 6,
   "id": "1e1073b8",
   "metadata": {},
   "outputs": [
    {
     "name": "stdout",
     "output_type": "stream",
     "text": [
      "{' ': 13,\n",
      " ',': 1,\n",
      " '.': 1,\n",
      " 'A': 1,\n",
      " 'I': 1,\n",
      " 'a': 4,\n",
      " 'b': 1,\n",
      " 'c': 3,\n",
      " 'd': 3,\n",
      " 'e': 5,\n",
      " 'g': 2,\n",
      " 'h': 3,\n",
      " 'i': 6,\n",
      " 'k': 2,\n",
      " 'l': 3,\n",
      " 'n': 4,\n",
      " 'o': 2,\n",
      " 'p': 1,\n",
      " 'r': 5,\n",
      " 's': 3,\n",
      " 't': 6,\n",
      " 'w': 2,\n",
      " 'y': 1}\n"
     ]
    }
   ],
   "source": [
    "# pprint module --> for pretty printing\n",
    "from pprint import *\n",
    "message = 'It was a bright cold day in April, and the clocks were striking thirteen.'\n",
    "count = {}\n",
    "for c in message:\n",
    "    count.setdefault(c, 0)\n",
    "    count[c] += 1\n",
    "\n",
    "pprint(count) # with keys sorted"
   ]
  },
  {
   "cell_type": "code",
   "execution_count": 10,
   "id": "ed385158",
   "metadata": {},
   "outputs": [
    {
     "name": "stdout",
     "output_type": "stream",
     "text": [
      "Now turn for X. Which space to mark?:(top/mid/low-L/M/R) kk\n",
      "There is no space: kk.\n",
      "Now turn for X. Which space to mark?:(top/mid/low-L/M/R) mid-M\n",
      " | | \n",
      "-+-+-\n",
      " |X| \n",
      "-+-+-\n",
      " | | \n",
      "Now turn for O. Which space to mark?:(top/mid/low-L/M/R) top-L\n",
      "O| | \n",
      "-+-+-\n",
      " |X| \n",
      "-+-+-\n",
      " | | \n",
      "Now turn for X. Which space to mark?:(top/mid/low-L/M/R) low-R\n",
      "O| | \n",
      "-+-+-\n",
      " |X| \n",
      "-+-+-\n",
      " | |X\n",
      "Now turn for O. Which space to mark?:(top/mid/low-L/M/R) low-L\n",
      "O| | \n",
      "-+-+-\n",
      " |X| \n",
      "-+-+-\n",
      "O| |X\n"
     ]
    },
    {
     "ename": "KeyboardInterrupt",
     "evalue": "Interrupted by user",
     "output_type": "error",
     "traceback": [
      "\u001b[1;31m---------------------------------------------------------------------------\u001b[0m",
      "\u001b[1;31mKeyboardInterrupt\u001b[0m                         Traceback (most recent call last)",
      "Cell \u001b[1;32mIn[10], line 15\u001b[0m\n\u001b[0;32m     13\u001b[0m \u001b[38;5;28;01mfor\u001b[39;00m i \u001b[38;5;129;01min\u001b[39;00m \u001b[38;5;28mrange\u001b[39m(\u001b[38;5;241m9\u001b[39m):\n\u001b[0;32m     14\u001b[0m     \u001b[38;5;28;01mwhile\u001b[39;00m \u001b[38;5;28;01mTrue\u001b[39;00m:\n\u001b[1;32m---> 15\u001b[0m         space \u001b[38;5;241m=\u001b[39m \u001b[38;5;28;43minput\u001b[39;49m\u001b[43m(\u001b[49m\u001b[38;5;124;43m'\u001b[39;49m\u001b[38;5;124;43mNow turn for \u001b[39;49m\u001b[38;5;124;43m'\u001b[39;49m\u001b[43m \u001b[49m\u001b[38;5;241;43m+\u001b[39;49m\u001b[43m \u001b[49m\u001b[43mturn\u001b[49m\u001b[43m \u001b[49m\u001b[38;5;241;43m+\u001b[39;49m\u001b[43m \u001b[49m\u001b[38;5;124;43m'\u001b[39;49m\u001b[38;5;124;43m. Which space to mark?:(top/mid/low-L/M/R) \u001b[39;49m\u001b[38;5;124;43m'\u001b[39;49m\u001b[43m)\u001b[49m\n\u001b[0;32m     16\u001b[0m         \u001b[38;5;28;01mif\u001b[39;00m space \u001b[38;5;129;01min\u001b[39;00m theBoard:\n\u001b[0;32m     17\u001b[0m             theBoard[space] \u001b[38;5;241m=\u001b[39m turn\n",
      "File \u001b[1;32m~\\anaconda3\\envs\\lis\\lib\\site-packages\\ipykernel\\kernelbase.py:1202\u001b[0m, in \u001b[0;36mKernel.raw_input\u001b[1;34m(self, prompt)\u001b[0m\n\u001b[0;32m   1200\u001b[0m     msg \u001b[38;5;241m=\u001b[39m \u001b[38;5;124m\"\u001b[39m\u001b[38;5;124mraw_input was called, but this frontend does not support input requests.\u001b[39m\u001b[38;5;124m\"\u001b[39m\n\u001b[0;32m   1201\u001b[0m     \u001b[38;5;28;01mraise\u001b[39;00m StdinNotImplementedError(msg)\n\u001b[1;32m-> 1202\u001b[0m \u001b[38;5;28;01mreturn\u001b[39;00m \u001b[38;5;28;43mself\u001b[39;49m\u001b[38;5;241;43m.\u001b[39;49m\u001b[43m_input_request\u001b[49m\u001b[43m(\u001b[49m\n\u001b[0;32m   1203\u001b[0m \u001b[43m    \u001b[49m\u001b[38;5;28;43mstr\u001b[39;49m\u001b[43m(\u001b[49m\u001b[43mprompt\u001b[49m\u001b[43m)\u001b[49m\u001b[43m,\u001b[49m\n\u001b[0;32m   1204\u001b[0m \u001b[43m    \u001b[49m\u001b[38;5;28;43mself\u001b[39;49m\u001b[38;5;241;43m.\u001b[39;49m\u001b[43m_parent_ident\u001b[49m\u001b[43m[\u001b[49m\u001b[38;5;124;43m\"\u001b[39;49m\u001b[38;5;124;43mshell\u001b[39;49m\u001b[38;5;124;43m\"\u001b[39;49m\u001b[43m]\u001b[49m\u001b[43m,\u001b[49m\n\u001b[0;32m   1205\u001b[0m \u001b[43m    \u001b[49m\u001b[38;5;28;43mself\u001b[39;49m\u001b[38;5;241;43m.\u001b[39;49m\u001b[43mget_parent\u001b[49m\u001b[43m(\u001b[49m\u001b[38;5;124;43m\"\u001b[39;49m\u001b[38;5;124;43mshell\u001b[39;49m\u001b[38;5;124;43m\"\u001b[39;49m\u001b[43m)\u001b[49m\u001b[43m,\u001b[49m\n\u001b[0;32m   1206\u001b[0m \u001b[43m    \u001b[49m\u001b[43mpassword\u001b[49m\u001b[38;5;241;43m=\u001b[39;49m\u001b[38;5;28;43;01mFalse\u001b[39;49;00m\u001b[43m,\u001b[49m\n\u001b[0;32m   1207\u001b[0m \u001b[43m\u001b[49m\u001b[43m)\u001b[49m\n",
      "File \u001b[1;32m~\\anaconda3\\envs\\lis\\lib\\site-packages\\ipykernel\\kernelbase.py:1245\u001b[0m, in \u001b[0;36mKernel._input_request\u001b[1;34m(self, prompt, ident, parent, password)\u001b[0m\n\u001b[0;32m   1242\u001b[0m \u001b[38;5;28;01mexcept\u001b[39;00m \u001b[38;5;167;01mKeyboardInterrupt\u001b[39;00m:\n\u001b[0;32m   1243\u001b[0m     \u001b[38;5;66;03m# re-raise KeyboardInterrupt, to truncate traceback\u001b[39;00m\n\u001b[0;32m   1244\u001b[0m     msg \u001b[38;5;241m=\u001b[39m \u001b[38;5;124m\"\u001b[39m\u001b[38;5;124mInterrupted by user\u001b[39m\u001b[38;5;124m\"\u001b[39m\n\u001b[1;32m-> 1245\u001b[0m     \u001b[38;5;28;01mraise\u001b[39;00m \u001b[38;5;167;01mKeyboardInterrupt\u001b[39;00m(msg) \u001b[38;5;28;01mfrom\u001b[39;00m \u001b[38;5;28;01mNone\u001b[39;00m\n\u001b[0;32m   1246\u001b[0m \u001b[38;5;28;01mexcept\u001b[39;00m \u001b[38;5;167;01mException\u001b[39;00m:\n\u001b[0;32m   1247\u001b[0m     \u001b[38;5;28mself\u001b[39m\u001b[38;5;241m.\u001b[39mlog\u001b[38;5;241m.\u001b[39mwarning(\u001b[38;5;124m\"\u001b[39m\u001b[38;5;124mInvalid Message:\u001b[39m\u001b[38;5;124m\"\u001b[39m, exc_info\u001b[38;5;241m=\u001b[39m\u001b[38;5;28;01mTrue\u001b[39;00m)\n",
      "\u001b[1;31mKeyboardInterrupt\u001b[0m: Interrupted by user"
     ]
    }
   ],
   "source": [
    "# practice: tic tac toc borad\n",
    "theBoard = {'top-L': ' ', 'top-M': ' ', 'top-R': ' ',\n",
    "            'mid-L': ' ', 'mid-M': ' ', 'mid-R': ' ',\n",
    "            'low-L': ' ', 'low-M': ' ', 'low-R': ' '}\n",
    "def printBoard(board):\n",
    "    print(board['top-L'] + '|' + board['top-M'] + '|' + board['top-R'])\n",
    "    print('-+-+-')\n",
    "    print(board['mid-L'] + '|' + board['mid-M'] + '|' + board['mid-R'])\n",
    "    print('-+-+-')\n",
    "    print(board['low-L'] + '|' + board['low-M'] + '|' + board['low-R'])\n",
    "\n",
    "turn = 'X'\n",
    "for i in range(9):\n",
    "    while True:\n",
    "        space = input('Now turn for ' + turn + '. Which space to mark?:(top/mid/low-L/M/R) ')\n",
    "        if space in theBoard:\n",
    "            theBoard[space] = turn\n",
    "            break\n",
    "        else:\n",
    "            print('There is no space: ' + space +'.')\n",
    "    if turn == 'X':\n",
    "        turn = 'O'\n",
    "    else:\n",
    "        turn = 'X'\n",
    "    printBoard(theBoard)"
   ]
  },
  {
   "cell_type": "code",
   "execution_count": 16,
   "id": "498ccb36",
   "metadata": {},
   "outputs": [
    {
     "name": "stdout",
     "output_type": "stream",
     "text": [
      "Number of things being brought:\n",
      "-Apples             7\n",
      "-Pretzels           12\n",
      "-Ham Sandwiches     3\n",
      "-Cakes              0\n",
      "-Apple Pies         1\n"
     ]
    }
   ],
   "source": [
    "# dict in dict\n",
    "allGuests = {'Alice': {'apples': 5, 'pretzels': 12},\n",
    "            'Bob': {'ham sandwiches': 3, 'apples': 2},\n",
    "            'Carol': {'cups': 3, 'apple pies': 1}}\n",
    "def totalBrought(guests, item):\n",
    "    numBrought = 0\n",
    "    for k, v in guests.items():\n",
    "        numBrought += v.get(item, 0)\n",
    "    return numBrought\n",
    "\n",
    "print('Number of things being brought:')\n",
    "print('-Apples'.ljust(20) + str(totalBrought(allGuests, 'apples')))\n",
    "print('-Pretzels'.ljust(20) + str(totalBrought(allGuests, 'pretzels')))\n",
    "print('-Ham Sandwiches'.ljust(20) + str(totalBrought(allGuests, 'ham sandwiches')))\n",
    "print('-Cakes'.ljust(20) + str(totalBrought(allGuests, 'cakes')))\n",
    "print('-Apple Pies'.ljust(20) + str(totalBrought(allGuests, 'apple pies')))"
   ]
  },
  {
   "cell_type": "code",
   "execution_count": 18,
   "id": "e68dabce",
   "metadata": {},
   "outputs": [
    {
     "name": "stdout",
     "output_type": "stream",
     "text": [
      "Inventory:\n",
      "1    rope\n",
      "6    torch\n",
      "42   gold coin\n",
      "1    dagger\n",
      "12   arrow\n",
      "Total number of items: 62\n"
     ]
    }
   ],
   "source": [
    "# practice1\n",
    "inventory = {'rope': 1, 'torch': 6, 'gold coin': 42, 'dagger': 1, 'arrow': 12}\n",
    "def displayInventory(invent):\n",
    "    totalInvent = 0\n",
    "    print('Inventory:')\n",
    "    for k, v in invent.items():\n",
    "        print(str(v).ljust(5) + k)\n",
    "        totalInvent += v\n",
    "    print('Total number of items: ' + str(totalInvent))\n",
    "    \n",
    "displayInventory(inventory)"
   ]
  },
  {
   "cell_type": "code",
   "execution_count": 19,
   "id": "b68618a0",
   "metadata": {},
   "outputs": [
    {
     "name": "stdout",
     "output_type": "stream",
     "text": [
      "Inventory:\n",
      "45   gold coin\n",
      "1    rope\n",
      "1    dagger\n",
      "1    ruby\n",
      "Total number of items: 48\n"
     ]
    }
   ],
   "source": [
    "# practice2\n",
    "def addToInventory(invent, addItems): # dict, list\n",
    "    for i in addItems:\n",
    "        invent.setdefault(i, 0)\n",
    "        invent[i] += 1\n",
    "    return invent\n",
    "inv = {'gold coin': 42, 'rope': 1}\n",
    "dragonLoot = ['gold coin', 'dagger', 'gold coin', 'gold coin', 'ruby']\n",
    "inv = addToInventory(inv, dragonLoot)\n",
    "displayInventory(inv)"
   ]
  },
  {
   "cell_type": "code",
   "execution_count": 31,
   "id": "b32d111f",
   "metadata": {},
   "outputs": [
    {
     "name": "stdout",
     "output_type": "stream",
     "text": [
      "False\n",
      "True\n",
      "dict_items([(0, 0), (1, 1), (2, 1)])\n",
      "dict_items([(0, 0), (1, 1)])\n"
     ]
    }
   ],
   "source": [
    "# global statement\n",
    "been_called = False\n",
    "def example2():\n",
    "    been_called = True\n",
    "example2()\n",
    "print(been_called)\n",
    "\n",
    "been_called = False\n",
    "def example3():\n",
    "    global been_called\n",
    "    been_called = True\n",
    "example3()\n",
    "print(been_called)\n",
    "\n",
    "# can modify mutable value, without declaring\n",
    "known = {0:0, 1:1}\n",
    "def example4():\n",
    "    known[2] = 1\n",
    "example4()\n",
    "print(known.items())\n",
    "\n",
    "# except reassign\n",
    "known = {0:0, 1:1}\n",
    "def example5():\n",
    "    known = dict()\n",
    "example5()\n",
    "print(known.items())"
   ]
  },
  {
   "cell_type": "code",
   "execution_count": 34,
   "id": "4150262a",
   "metadata": {},
   "outputs": [
    {
     "name": "stdout",
     "output_type": "stream",
     "text": [
      "{'Then': 1, 'you': 1, 'can': 1, 'use': 1, 'the': 2, 'in': 2, 'operator': 1, 'as': 1, 'a': 2, 'fast': 1, 'way': 1, 'to': 1, 'check': 1, 'whether': 1, 'string': 1, 'is': 1, 'dictionary.': 1}\n"
     ]
    }
   ],
   "source": [
    "# exercise1\n",
    "spam = 'Then you can use the in operator as a fast way to check whether a string is in the dictionary.'\n",
    "# print(spam.split())\n",
    "def word_of_file(file):\n",
    "    d = dict()\n",
    "    for w in file.split():\n",
    "        if w in d:\n",
    "            d[w] += 1\n",
    "        else:\n",
    "            d[w] = 1\n",
    "    return d\n",
    "\n",
    "print(word_of_file(spam))"
   ]
  },
  {
   "cell_type": "code",
   "execution_count": null,
   "id": "561c4f8c",
   "metadata": {},
   "outputs": [],
   "source": []
  },
  {
   "cell_type": "code",
   "execution_count": null,
   "id": "28f702d7",
   "metadata": {},
   "outputs": [],
   "source": []
  },
  {
   "cell_type": "code",
   "execution_count": null,
   "id": "ac64e395",
   "metadata": {},
   "outputs": [],
   "source": []
  },
  {
   "cell_type": "code",
   "execution_count": null,
   "id": "de8ac0e5",
   "metadata": {},
   "outputs": [],
   "source": []
  },
  {
   "cell_type": "code",
   "execution_count": null,
   "id": "3ca2e413",
   "metadata": {},
   "outputs": [],
   "source": []
  },
  {
   "cell_type": "code",
   "execution_count": null,
   "id": "f0d400f4",
   "metadata": {},
   "outputs": [],
   "source": []
  },
  {
   "cell_type": "code",
   "execution_count": null,
   "id": "9c9594ff",
   "metadata": {},
   "outputs": [],
   "source": []
  },
  {
   "cell_type": "code",
   "execution_count": null,
   "id": "fd6dc285",
   "metadata": {},
   "outputs": [],
   "source": []
  },
  {
   "cell_type": "code",
   "execution_count": null,
   "id": "384eee84",
   "metadata": {},
   "outputs": [],
   "source": []
  }
 ],
 "metadata": {
  "kernelspec": {
   "display_name": "Python 3 (ipykernel)",
   "language": "python",
   "name": "python3"
  },
  "language_info": {
   "codemirror_mode": {
    "name": "ipython",
    "version": 3
   },
   "file_extension": ".py",
   "mimetype": "text/x-python",
   "name": "python",
   "nbconvert_exporter": "python",
   "pygments_lexer": "ipython3",
   "version": "3.10.13"
  }
 },
 "nbformat": 4,
 "nbformat_minor": 5
}
