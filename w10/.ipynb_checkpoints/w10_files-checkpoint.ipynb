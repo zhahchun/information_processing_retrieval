{
 "cells": [
  {
   "cell_type": "code",
   "execution_count": 4,
   "id": "8eaba16e",
   "metadata": {},
   "outputs": [
    {
     "name": "stdout",
     "output_type": "stream",
     "text": [
      "This is a test file.\n",
      "Hello.\n"
     ]
    }
   ],
   "source": [
    "# open the file\n",
    "# open('file_name')\n",
    "file01 = open('file01.txt') # open in read mode (default)\n",
    "\n",
    "# read the file\n",
    "# file_object.read()\n",
    "read_content = file01.read()\n",
    "print(read_content)\n",
    "\n",
    "# close the file\n",
    "# file_object.close()\n",
    "file01.close()"
   ]
  },
  {
   "cell_type": "code",
   "execution_count": null,
   "id": "9a7270bd",
   "metadata": {},
   "outputs": [],
   "source": [
    "# to avoid the code exits without closing the file (an exception occurs)\n",
    "# try: ... finally:...\n",
    "try:\n",
    "    file01 = open('file01.txt')\n",
    "    read_content = file01.read()\n",
    "    print(read_content)\n",
    "finally:\n",
    "    file01.close()"
   ]
  },
  {
   "cell_type": "code",
   "execution_count": null,
   "id": "3295f44e",
   "metadata": {},
   "outputs": [],
   "source": [
    "# automatically close a file\n",
    "# with open('file_name'):...\n",
    "with open('file01.txt') as file01:\n",
    "    read_content = file01.read()\n",
    "    print(read_content)"
   ]
  },
  {
   "cell_type": "code",
   "execution_count": 6,
   "id": "e74062cf",
   "metadata": {},
   "outputs": [],
   "source": [
    "# If we try to open a file that doesn't exist, a new file is created.\n",
    "# If a file already exists, its content is erased, and new content is added to the file.\n",
    "# argument: 'w'\n",
    "# file_object.write()\n",
    "with open('file02.txt', 'w') as file02:\n",
    "    file02.write('Programming is Fun.\\n')\n",
    "    file02.write('I like programming.')    "
   ]
  },
  {
   "cell_type": "code",
   "execution_count": 8,
   "id": "3d8c9889",
   "metadata": {},
   "outputs": [
    {
     "name": "stdout",
     "output_type": "stream",
     "text": [
      "43\n",
      "In 3 years I have spotted 0.1 camels.\n"
     ]
    }
   ],
   "source": [
    "# file_object.write(string)\n",
    "# str()\n",
    "# %: format operator, %d --> integer, %g --> floating point, %s --> string\n",
    "x = 43\n",
    "print(str(x))\n",
    "print('In %d years I have spotted %g %s.' % (3, 0.1, 'camels'))"
   ]
  },
  {
   "cell_type": "code",
   "execution_count": 9,
   "id": "141bb225",
   "metadata": {},
   "outputs": [
    {
     "name": "stdout",
     "output_type": "stream",
     "text": [
      "C:\\Users\\ftstc\\Desktop\\information_processing_retrieval\\w10\n"
     ]
    }
   ],
   "source": [
    "# os module provides functions for working with files and directories (os --> operation system)\n",
    "# os.getcwd() returns the name of the current working directory\n",
    "import os\n",
    "cwd = os.getcwd()\n",
    "print(cwd)"
   ]
  },
  {
   "cell_type": "code",
   "execution_count": 12,
   "id": "fe6002c4",
   "metadata": {},
   "outputs": [
    {
     "name": "stdout",
     "output_type": "stream",
     "text": [
      "C:\\Users\\ftstc\\Desktop\\information_processing_retrieval\\w10\\file01.txt\n"
     ]
    }
   ],
   "source": [
    "# relative/ absolute path\n",
    "file01 = open('file01.txt')\n",
    "print(os.path.abspath('file01.txt'))"
   ]
  },
  {
   "cell_type": "code",
   "execution_count": 15,
   "id": "e64109e7",
   "metadata": {},
   "outputs": [
    {
     "name": "stdout",
     "output_type": "stream",
     "text": [
      "True\n",
      "False\n",
      "True\n"
     ]
    }
   ],
   "source": [
    "# os.path\n",
    "# checks whether a file or directory exists\n",
    "print(os.path.exists('file01.txt'))\n",
    "# checks whether it’s a directory\n",
    "print(os.path.isdir('file01.txt'))\n",
    "# checks whether it’s a file\n",
    "print(os.path.isfile('file01.txt'))"
   ]
  },
  {
   "cell_type": "code",
   "execution_count": 16,
   "id": "77995e6a",
   "metadata": {},
   "outputs": [
    {
     "data": {
      "text/plain": [
       "['.ipynb_checkpoints', 'file01.txt', 'file02.txt', 'w10_files.ipynb']"
      ]
     },
     "execution_count": 16,
     "metadata": {},
     "output_type": "execute_result"
    }
   ],
   "source": [
    "# returns a list of the files (and other directories) in the given directory\n",
    "os.listdir(cwd)"
   ]
  },
  {
   "cell_type": "code",
   "execution_count": 17,
   "id": "610430f3",
   "metadata": {},
   "outputs": [],
   "source": [
    "# os.path.join()\n",
    "def walk(dirname):\n",
    "    for name in os.listdir(dirname):\n",
    "        path = os.path.join(dirname, name)\n",
    "        \n",
    "        if os.path.isfile(path):\n",
    "            print(path)\n",
    "        else:\n",
    "            walk(path)"
   ]
  },
  {
   "cell_type": "code",
   "execution_count": 18,
   "id": "67a8bc4d",
   "metadata": {},
   "outputs": [
    {
     "name": "stdout",
     "output_type": "stream",
     "text": [
      "C:\\Users\\ftstc\\Desktop\\information_processing_retrieval\\w10\\.ipynb_checkpoints\\w10_files-checkpoint.ipynb\n",
      "C:\\Users\\ftstc\\Desktop\\information_processing_retrieval\\w10\\file01.txt\n",
      "C:\\Users\\ftstc\\Desktop\\information_processing_retrieval\\w10\\file02.txt\n",
      "C:\\Users\\ftstc\\Desktop\\information_processing_retrieval\\w10\\w10_files.ipynb\n"
     ]
    }
   ],
   "source": [
    "walk(cwd)"
   ]
  },
  {
   "cell_type": "code",
   "execution_count": 24,
   "id": "2fe23d27",
   "metadata": {},
   "outputs": [],
   "source": [
    "def walk02(dirname):\n",
    "    for root, dirs, files in os.walk(dirname, topdown=False):\n",
    "#         get files inside\n",
    "        for name in files:\n",
    "            print(os.path.join(root, name))\n",
    "#         get dir inside\n",
    "        for name in dirs:\n",
    "          print(os.path.join(root, name))"
   ]
  },
  {
   "cell_type": "code",
   "execution_count": 25,
   "id": "594074fa",
   "metadata": {},
   "outputs": [
    {
     "name": "stdout",
     "output_type": "stream",
     "text": [
      "C:\\Users\\ftstc\\Desktop\\information_processing_retrieval\\w10\\.ipynb_checkpoints\\w10_files-checkpoint.ipynb\n",
      "C:\\Users\\ftstc\\Desktop\\information_processing_retrieval\\w10\\file01.txt\n",
      "C:\\Users\\ftstc\\Desktop\\information_processing_retrieval\\w10\\file02.txt\n",
      "C:\\Users\\ftstc\\Desktop\\information_processing_retrieval\\w10\\w10_files.ipynb\n",
      "C:\\Users\\ftstc\\Desktop\\information_processing_retrieval\\w10\\.ipynb_checkpoints\n"
     ]
    }
   ],
   "source": [
    "walk02(cwd)"
   ]
  },
  {
   "cell_type": "code",
   "execution_count": 27,
   "id": "ea7986d1",
   "metadata": {},
   "outputs": [
    {
     "name": "stdout",
     "output_type": "stream",
     "text": [
      "b'Photo of John Cleese.'\n"
     ]
    }
   ],
   "source": [
    "# dbm module provides an interface for creating and updating database files\n",
    "# dbm stores data in simple key-value pair form like a dictionary\n",
    "# the database object that can be used (for most operations) like a dictionary.\n",
    "# dbm.open('file_name', flag)\n",
    "# 'c': open the database for read and write, also create a new one if it doesn’t exists.\n",
    "import dbm\n",
    "db = dbm.open('captions', 'c')\n",
    "db['cleese.png'] = 'Photo of John Cleese.'\n",
    "print(db['cleese.png'])"
   ]
  },
  {
   "cell_type": "code",
   "execution_count": 30,
   "id": "06d8719f",
   "metadata": {},
   "outputs": [
    {
     "name": "stdout",
     "output_type": "stream",
     "text": [
      "b'Photo of John Cleese doing a silly walk.'\n",
      "b'Photo of Harry Potter doing a silly walk.'\n"
     ]
    }
   ],
   "source": [
    "db['cleese.png'] = 'Photo of John Cleese doing a silly walk.'\n",
    "print(db['cleese.png'])\n",
    "db['potter.png'] = 'Photo of Harry Potter doing a silly walk.'\n",
    "print(db['potter.png'])"
   ]
  },
  {
   "cell_type": "code",
   "execution_count": 34,
   "id": "4919058e",
   "metadata": {},
   "outputs": [
    {
     "name": "stdout",
     "output_type": "stream",
     "text": [
      "[b'cleese.png', b'potter.png']\n",
      "ValuesView(<dbm.dumb._Database object at 0x0000020B9CD9FBB0>)\n",
      "[(b'cleese.png', b'Photo of John Cleese doing a silly walk.'), (b'potter.png', b'Photo of Harry Potter doing a silly walk.')]\n",
      "b'cleese.png' : b'Photo of John Cleese doing a silly walk.'\n",
      "b'potter.png' : b'Photo of Harry Potter doing a silly walk.'\n"
     ]
    }
   ],
   "source": [
    "# Some dictionary methods don’t work with database objects. \n",
    "print(db.keys())\n",
    "print(db.values())\n",
    "print(db.items())\n",
    "for k, v in db.items():\n",
    "    print(k, ':', v)"
   ]
  },
  {
   "cell_type": "code",
   "execution_count": 35,
   "id": "e4664bc8",
   "metadata": {},
   "outputs": [],
   "source": [
    "# As with other files, you should close the database when you are done\n",
    "db.close()"
   ]
  },
  {
   "cell_type": "code",
   "execution_count": 39,
   "id": "1a957345",
   "metadata": {},
   "outputs": [
    {
     "name": "stdout",
     "output_type": "stream",
     "text": [
      "b'\\x80\\x04\\x95\\x0b\\x00\\x00\\x00\\x00\\x00\\x00\\x00]\\x94(K\\x01K\\x02K\\x03e.'\n",
      "[1, 2, 3]\n",
      "True\n",
      "False\n"
     ]
    }
   ],
   "source": [
    "# A limitation of dbm is that the keys and values have to be strings or bytes. \n",
    "# If you try to use any other type, you get an error.\n",
    "# The pickle module can help. It translates almost any type of object into a string suitable for storage in a database, \n",
    "# and then translates strings back into objects.\n",
    "# pickle.dumps takes an object as a parameter and returns a string representation \n",
    "# (dumps is short for “dump string”)\n",
    "import pickle\n",
    "list01 = [1, 2, 3]\n",
    "obj01 = pickle.dumps(list01)\n",
    "print(obj01)\n",
    "# pickle.loads (“load string”) reconstitutes the object\n",
    "list02 = pickle.loads(obj01)\n",
    "print(list02)\n",
    "print(list01 == list02)\n",
    "print(list01 is list02)\n",
    "# You can use pickle to store non-strings in a database. \n",
    "# In fact, this combination is so common that it has been encapsulated in a module called shelve."
   ]
  },
  {
   "cell_type": "code",
   "execution_count": null,
   "id": "5149f428",
   "metadata": {},
   "outputs": [],
   "source": []
  },
  {
   "cell_type": "code",
   "execution_count": null,
   "id": "c1a78525",
   "metadata": {},
   "outputs": [],
   "source": []
  },
  {
   "cell_type": "code",
   "execution_count": null,
   "id": "2f48f396",
   "metadata": {},
   "outputs": [],
   "source": []
  },
  {
   "cell_type": "code",
   "execution_count": null,
   "id": "f3778366",
   "metadata": {},
   "outputs": [],
   "source": []
  },
  {
   "cell_type": "code",
   "execution_count": null,
   "id": "2cb7ed7b",
   "metadata": {},
   "outputs": [],
   "source": []
  },
  {
   "cell_type": "code",
   "execution_count": null,
   "id": "4b2e1cdd",
   "metadata": {},
   "outputs": [],
   "source": []
  },
  {
   "cell_type": "code",
   "execution_count": null,
   "id": "9d553023",
   "metadata": {},
   "outputs": [],
   "source": []
  },
  {
   "cell_type": "code",
   "execution_count": null,
   "id": "c4c54acf",
   "metadata": {},
   "outputs": [],
   "source": []
  },
  {
   "cell_type": "code",
   "execution_count": null,
   "id": "45749d40",
   "metadata": {},
   "outputs": [],
   "source": []
  },
  {
   "cell_type": "code",
   "execution_count": null,
   "id": "f0691745",
   "metadata": {},
   "outputs": [],
   "source": []
  },
  {
   "cell_type": "code",
   "execution_count": null,
   "id": "7f2868b5",
   "metadata": {},
   "outputs": [],
   "source": []
  }
 ],
 "metadata": {
  "kernelspec": {
   "display_name": "Python 3 (ipykernel)",
   "language": "python",
   "name": "python3"
  },
  "language_info": {
   "codemirror_mode": {
    "name": "ipython",
    "version": 3
   },
   "file_extension": ".py",
   "mimetype": "text/x-python",
   "name": "python",
   "nbconvert_exporter": "python",
   "pygments_lexer": "ipython3",
   "version": "3.10.13"
  }
 },
 "nbformat": 4,
 "nbformat_minor": 5
}
