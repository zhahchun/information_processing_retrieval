{
 "cells": [
  {
   "cell_type": "code",
   "execution_count": 36,
   "id": "e1920dc4",
   "metadata": {},
   "outputs": [
    {
     "name": "stdout",
     "output_type": "stream",
     "text": [
      "' \" \\ \t \n",
      "\n",
      "check\n",
      "That is Carol\\'s cat.\\n\n",
      "\n",
      "Dear Alice,\n",
      "\n",
      "Eve's cat has been arrested for catnapping, cat burglary, and extortion.\n",
      "\n",
      "Sincerely,\n",
      "Bob\n"
     ]
    }
   ],
   "source": [
    "print('\\' \\\" \\\\ \\t \\n')\n",
    "print('check')\n",
    "print(r'That is Carol\\'s cat.\\n')\n",
    "print(\"\")\n",
    "print('''Dear Alice,\n",
    "\n",
    "Eve's cat has been arrested for catnapping, cat burglary, and extortion.\n",
    "\n",
    "Sincerely,\n",
    "Bob''')"
   ]
  },
  {
   "cell_type": "code",
   "execution_count": 37,
   "id": "85aecf2b",
   "metadata": {},
   "outputs": [
    {
     "name": "stdout",
     "output_type": "stream",
     "text": [
      "a\n"
     ]
    }
   ],
   "source": [
    "\"\"\"This is a multiline comment to help\n",
    "    explain what XXX does.\"\"\"\n",
    "print('a')"
   ]
  },
  {
   "cell_type": "code",
   "execution_count": 38,
   "id": "4416c6eb",
   "metadata": {},
   "outputs": [
    {
     "name": "stdout",
     "output_type": "stream",
     "text": [
      "H ! Hello World!\n",
      "HELLO WORLD!\n",
      "hello world!\n",
      "\n",
      "False\n",
      "False\n",
      "\n",
      "False\n",
      "False\n",
      "\n",
      "False\n",
      "True\n",
      "False\n",
      "\n",
      "False\n",
      "True\n",
      "True\n",
      "\n",
      "False\n",
      "False\n",
      "True\n",
      "\n",
      "False\n",
      "False\n",
      "False\n",
      "\n",
      "True\n",
      "True\n",
      "False\n",
      "True\n",
      "\n"
     ]
    }
   ],
   "source": [
    "mess = 'Hello World!'\n",
    "mess02 = 'Hello'\n",
    "number = '1234'\n",
    "print(mess[0], mess[-1], mess[0:5], mess[6:])\n",
    "print(mess.upper())\n",
    "print(mess.lower())\n",
    "print(\"\")\n",
    "print(mess.isupper())\n",
    "print(mess.islower())\n",
    "print(\"\")\n",
    "print(number.isupper())\n",
    "print(number.islower())\n",
    "print(\"\")\n",
    "print(mess.isalpha())\n",
    "print(mess02.isalpha())\n",
    "print(number.isalpha())\n",
    "print(\"\")\n",
    "print(mess.isalnum())\n",
    "print(mess02.isalnum())\n",
    "print(number.isalnum())\n",
    "print(\"\")\n",
    "print(mess.isdecimal())\n",
    "print(mess02.isdecimal())\n",
    "print(number.isdecimal())\n",
    "print(\"\")\n",
    "print(mess.isspace())\n",
    "print(mess02.isspace())\n",
    "print(number.isspace())\n",
    "print(\"\")\n",
    "print(mess.istitle())\n",
    "print(mess02.istitle())\n",
    "print(number.istitle())\n",
    "print('This Is Title Case 123'.istitle())\n",
    "print(\"\")"
   ]
  },
  {
   "cell_type": "code",
   "execution_count": 39,
   "id": "7114d303",
   "metadata": {},
   "outputs": [
    {
     "name": "stdout",
     "output_type": "stream",
     "text": [
      "Hello\n"
     ]
    }
   ],
   "source": [
    "part = mess[:5]\n",
    "print(part)"
   ]
  },
  {
   "cell_type": "code",
   "execution_count": 40,
   "id": "2430ae9f",
   "metadata": {},
   "outputs": [
    {
     "name": "stdout",
     "output_type": "stream",
     "text": [
      "True\n",
      "False\n",
      "True\n",
      "False\n"
     ]
    }
   ],
   "source": [
    "print('Hello' in 'Hello World')\n",
    "print('HELLO' in 'Hello World')\n",
    "print( '' in 'spam')\n",
    "print('cats' not in 'cats and dogs')"
   ]
  },
  {
   "cell_type": "code",
   "execution_count": 41,
   "id": "f3beb809",
   "metadata": {},
   "outputs": [
    {
     "name": "stdout",
     "output_type": "stream",
     "text": [
      "How are you? e\n",
      "I hope the rest of your day is good.\n"
     ]
    }
   ],
   "source": [
    "feeling = input('How are you? ')\n",
    "if feeling.lower() == 'great':\n",
    "    print('I feel great too.')\n",
    "else:\n",
    "    print('I hope the rest of your day is good.')"
   ]
  },
  {
   "cell_type": "code",
   "execution_count": 42,
   "id": "6cf96f79",
   "metadata": {},
   "outputs": [
    {
     "name": "stdout",
     "output_type": "stream",
     "text": [
      "Enter your age: 3\n",
      "Select a new password (letters and numbers only): e\n"
     ]
    }
   ],
   "source": [
    "while True:\n",
    "    age = input('Enter your age: ')\n",
    "    if age.isdecimal():\n",
    "        break\n",
    "    print('Please enter a number for your age.\\n')\n",
    "\n",
    "while True:\n",
    "    password = input('Select a new password (letters and numbers only): ')\n",
    "    if password.isalnum():\n",
    "        break\n",
    "    print('Passwords can only have letters and numbers. \\n')"
   ]
  },
  {
   "cell_type": "code",
   "execution_count": 43,
   "id": "5487754a",
   "metadata": {},
   "outputs": [
    {
     "name": "stdout",
     "output_type": "stream",
     "text": [
      "True\n",
      "True\n"
     ]
    }
   ],
   "source": [
    "mess = 'Hello World!'\n",
    "print(mess.startswith('Hello'))\n",
    "print(mess.endswith('d!'))"
   ]
  },
  {
   "cell_type": "code",
   "execution_count": 44,
   "id": "52c619d7",
   "metadata": {},
   "outputs": [
    {
     "name": "stdout",
     "output_type": "stream",
     "text": [
      "cats, rats, bats\n",
      "My name is Simon\n",
      "['My', 'name', 'is', 'Simon']\n",
      "['My na', 'e is Si', 'on']\n"
     ]
    }
   ],
   "source": [
    "print(', '.join(['cats', 'rats', 'bats']))\n",
    "print(' '.join(['My', 'name', 'is', 'Simon']))\n",
    "print('My name is Simon'.split())\n",
    "print('My name is Simon'.split('m'))"
   ]
  },
  {
   "cell_type": "code",
   "execution_count": 45,
   "id": "ac24c1a6",
   "metadata": {},
   "outputs": [
    {
     "name": "stdout",
     "output_type": "stream",
     "text": [
      "['Dear Alice,', 'How have you been? I am fine.', 'There is a container in the fridge', 'that is labeled \"Milk Experiment\".', '', 'Please do not drink it.', 'Sincerely,', 'Bob']\n"
     ]
    }
   ],
   "source": [
    "spam = '''Dear Alice,\n",
    "How have you been? I am fine.\n",
    "There is a container in the fridge\n",
    "that is labeled \"Milk Experiment\".\n",
    "\n",
    "Please do not drink it.\n",
    "Sincerely,\n",
    "Bob'''\n",
    "print(spam.split('\\n'))"
   ]
  },
  {
   "cell_type": "code",
   "execution_count": 46,
   "id": "6b4699a2",
   "metadata": {},
   "outputs": [
    {
     "name": "stdout",
     "output_type": "stream",
     "text": [
      "     Hello\n",
      "Hello               \n",
      "*****Hello\n",
      "**Hello***\n"
     ]
    }
   ],
   "source": [
    "w01 = 'Hello'\n",
    "print(w01.rjust(10))\n",
    "print(w01.ljust(20))\n",
    "print(w01.rjust(10, '*'))\n",
    "print(w01.center(10, '*'))"
   ]
  },
  {
   "cell_type": "code",
   "execution_count": 47,
   "id": "bd03ecd6",
   "metadata": {},
   "outputs": [
    {
     "name": "stdout",
     "output_type": "stream",
     "text": [
      "---Picnic Items--\n",
      "sandwiches..    4\n",
      "apples......   12\n",
      "cups........    4\n",
      "cookies..... 8000\n"
     ]
    }
   ],
   "source": [
    "def picnic(item_disc, left_width, right_width):\n",
    "    print('Picnic Items'.center(left_width+right_width, '-'))\n",
    "    for k, v in item_disc.items():\n",
    "        print(k.ljust(left_width, '.') + str(v).rjust(right_width))\n",
    "\n",
    "picnic_items = {'sandwiches': 4, 'apples': 12, 'cups': 4, 'cookies': 8000}\n",
    "picnic(picnic_items, 12, 5)"
   ]
  },
  {
   "cell_type": "code",
   "execution_count": 48,
   "id": "91b37503",
   "metadata": {},
   "outputs": [
    {
     "name": "stdout",
     "output_type": "stream",
     "text": [
      "Hello World\n",
      "Hello World     \n",
      "    Hello World\n",
      "pamSpamBaconSpamEggsSpamSpam\n",
      "SpamSpamBaconSpamEggsSpamSpam\n",
      "SpamSpamBaconSpamEggsSpamSpa\n",
      "SpamSpamBaconSpamEggsSpamS\n",
      "SpamSpamBaconSpamEggsSpamS\n",
      "BaconSpamEggs\n"
     ]
    }
   ],
   "source": [
    "w02 = '    Hello World     '\n",
    "print(w02.strip())\n",
    "print(w02.lstrip())\n",
    "print(w02.rstrip())\n",
    "w03 = 'SpamSpamBaconSpamEggsSpamSpam'\n",
    "print(w03.strip('S'))\n",
    "print(w03.strip('a'))\n",
    "print(w03.strip('mp'))\n",
    "print(w03.strip('amp'))\n",
    "print(w03.strip('map'))\n",
    "print(w03.strip('apmS'))"
   ]
  },
  {
   "cell_type": "code",
   "execution_count": 49,
   "id": "556406ca",
   "metadata": {},
   "outputs": [
    {
     "data": {
      "text/plain": [
       "'Hello world!'"
      ]
     },
     "execution_count": 49,
     "metadata": {},
     "output_type": "execute_result"
    }
   ],
   "source": [
    "import pyperclip as pc\n",
    "sen01 = 'Hello world!'\n",
    "pc.copy(sen01)\n",
    "pc.paste()"
   ]
  },
  {
   "cell_type": "code",
   "execution_count": 50,
   "id": "b9a33908",
   "metadata": {},
   "outputs": [
    {
     "data": {
      "text/plain": [
       "'Hello world!'"
      ]
     },
     "execution_count": 50,
     "metadata": {},
     "output_type": "execute_result"
    }
   ],
   "source": [
    "pc.paste()"
   ]
  },
  {
   "cell_type": "code",
   "execution_count": 51,
   "id": "ed57884b",
   "metadata": {},
   "outputs": [
    {
     "name": "stdout",
     "output_type": "stream",
     "text": [
      "This is an example\n",
      "of a multi-line string\n",
      "in Python.\n"
     ]
    }
   ],
   "source": [
    "import textwrap\n",
    "paragraph = '''\n",
    "     This is an example\n",
    "     of a multi-line string\n",
    "     in Python.\n",
    "     '''\n",
    "print(textwrap.dedent(paragraph).strip())"
   ]
  },
  {
   "cell_type": "code",
   "execution_count": 52,
   "id": "aa373a54",
   "metadata": {},
   "outputs": [
    {
     "name": "stdout",
     "output_type": "stream",
     "text": [
      "Hello, ftstc!\n",
      "Hello, ftstc!\n",
      "None\n"
     ]
    }
   ],
   "source": [
    "import os\n",
    "print('Hello, ' + os.getlogin() + '!')\n",
    "print(f'Hello, {os.getlogin()}!')\n",
    "print(None)"
   ]
  },
  {
   "cell_type": "code",
   "execution_count": 53,
   "id": "f0bc51a9",
   "metadata": {},
   "outputs": [
    {
     "name": "stdout",
     "output_type": "stream",
     "text": [
      "hello world\n",
      "hello world\n",
      "hello world\n",
      "hello\n",
      "world\n",
      "jdoe is 42 years old\n",
      "node-> child-> child\n",
      "Checking file integrity...OK\n"
     ]
    }
   ],
   "source": [
    "print('hello', 'world', sep = None)\n",
    "print('hello', 'world', sep = ' ')\n",
    "print('hello', 'world')\n",
    "print('hello', 'world', sep = '\\n')\n",
    "print(*['jdoe is', 42, 'years old'])\n",
    "print('node', 'child', 'child', sep = '-> ')\n",
    "print('Checking file integrity...', end = '')\n",
    "print('OK')"
   ]
  },
  {
   "cell_type": "code",
   "execution_count": 54,
   "id": "197b22f2",
   "metadata": {},
   "outputs": [
    {
     "name": "stdout",
     "output_type": "stream",
     "text": [
      "<_io.TextIOWrapper name='<stdin>' mode='r' encoding='cp1252'>\n",
      "0\n",
      "<ipykernel.iostream.OutStream object at 0x000001FCFE8923E0>\n",
      "<ipykernel.iostream.OutStream object at 0x000001FCFE892860>\n"
     ]
    }
   ],
   "source": [
    "import sys\n",
    "print(sys.stdin)\n",
    "print(sys.stdin.fileno())\n",
    "print(sys.stdout)\n",
    "# print(sys.stdout.fileno())\n",
    "print(sys.stderr)\n",
    "# print(sys.stderr.fileno())"
   ]
  },
  {
   "cell_type": "code",
   "execution_count": 55,
   "id": "7be13223",
   "metadata": {},
   "outputs": [],
   "source": [
    "# with open('file.txt') as file_object:\n",
    "#     for line in file_object:\n",
    "#         print(line)\n",
    "        \n",
    "# with open('file.txt') as file_object:\n",
    "#     for line in file_object:\n",
    "#         print(line.rstrip())     \n",
    "        \n",
    "# with open('file.txt') as file_object:\n",
    "#     for line in file_object:\n",
    "#         print(line, end = '')     "
   ]
  },
  {
   "cell_type": "code",
   "execution_count": 56,
   "id": "672dc7e1",
   "metadata": {},
   "outputs": [],
   "source": [
    "with open('file3.txt', mode = 'w') as file_object:\n",
    "    print('New line', file = file_object)\n",
    "    \n",
    "with open('file3.txt', mode = 'a') as file_object:\n",
    "    print('Additional line', file = file_object)"
   ]
  },
  {
   "cell_type": "code",
   "execution_count": 57,
   "id": "e5177654",
   "metadata": {},
   "outputs": [],
   "source": [
    "with open('file4.txt', mode = 'w') as file_object:\n",
    "    print('New line', file = file_object)\n",
    "    \n",
    "with open('file4.txt', mode = 'a') as file_object:\n",
    "    print('Additional line', file = file_object)"
   ]
  },
  {
   "cell_type": "code",
   "execution_count": 58,
   "id": "cc414331",
   "metadata": {},
   "outputs": [
    {
     "data": {
      "text/plain": [
       "'Hello\\n'"
      ]
     },
     "execution_count": 58,
     "metadata": {},
     "output_type": "execute_result"
    }
   ],
   "source": [
    "import io\n",
    "fake_file = io.StringIO()  # a fake file in memory\n",
    "print('Hello', file = fake_file)\n",
    "fake_file.getvalue()"
   ]
  },
  {
   "cell_type": "code",
   "execution_count": 59,
   "id": "3136bc55",
   "metadata": {},
   "outputs": [
    {
     "name": "stdout",
     "output_type": "stream",
     "text": [
      "3...2...1...Go!\n"
     ]
    }
   ],
   "source": [
    "import time\n",
    "\n",
    "num_seconds = 3\n",
    "for countdown in reversed(range(num_seconds + 1)):\n",
    "    if countdown > 0:\n",
    "        print(countdown, end = '...')\n",
    "        time.sleep(1)\n",
    "    else:\n",
    "        print('Go!')    "
   ]
  },
  {
   "cell_type": "code",
   "execution_count": 60,
   "id": "497e5d96",
   "metadata": {},
   "outputs": [
    {
     "name": "stdout",
     "output_type": "stream",
     "text": [
      "3...2...1...Go!\n"
     ]
    }
   ],
   "source": [
    "import time\n",
    "\n",
    "num_seconds = 3\n",
    "for countdown in reversed(range(num_seconds + 1)):\n",
    "    if countdown > 0:\n",
    "        print(countdown, end = '...', flush = True)\n",
    "        time.sleep(1)\n",
    "    else:\n",
    "        print('Go!')    "
   ]
  },
  {
   "cell_type": "code",
   "execution_count": 61,
   "id": "1afe0920",
   "metadata": {},
   "outputs": [
    {
     "name": "stdout",
     "output_type": "stream",
     "text": [
      "Person(name='Rebecca', age='18')\n"
     ]
    }
   ],
   "source": [
    "from collections import namedtuple\n",
    "Person = namedtuple('Person', 'name age')\n",
    "becca = Person('Rebecca', '18')\n",
    "print(becca)"
   ]
  },
  {
   "cell_type": "code",
   "execution_count": 62,
   "id": "84ac80c4",
   "metadata": {},
   "outputs": [
    {
     "name": "stdout",
     "output_type": "stream",
     "text": [
      "<__main__.Person object at 0x000001FCFFBD4E80>\n"
     ]
    }
   ],
   "source": [
    "class Person:\n",
    "    def __init__(self, name, age):\n",
    "        self.name, self.age = name, age\n",
    "        \n",
    "becca = Person('Rebecca', '18')\n",
    "print(becca)"
   ]
  },
  {
   "cell_type": "code",
   "execution_count": 63,
   "id": "f5216e6f",
   "metadata": {},
   "outputs": [
    {
     "name": "stdout",
     "output_type": "stream",
     "text": [
      "Person(name='Rebecca', age='18')\n"
     ]
    }
   ],
   "source": [
    "from collections import namedtuple\n",
    "class Person(namedtuple('Person', 'name age')):\n",
    "    pass\n",
    "\n",
    "becca2 = Person('Rebecca', '18')\n",
    "print(becca2)"
   ]
  },
  {
   "cell_type": "code",
   "execution_count": 64,
   "id": "182319b3",
   "metadata": {},
   "outputs": [
    {
     "data": {
      "text/plain": [
       "\"Person(name='Rebecca', age='18')\""
      ]
     },
     "execution_count": 64,
     "metadata": {},
     "output_type": "execute_result"
    }
   ],
   "source": [
    "str(becca2)"
   ]
  },
  {
   "cell_type": "code",
   "execution_count": 65,
   "id": "3d344e46",
   "metadata": {},
   "outputs": [
    {
     "data": {
      "text/plain": [
       "\"Person(name='Rebecca', age='18')\""
      ]
     },
     "execution_count": 65,
     "metadata": {},
     "output_type": "execute_result"
    }
   ],
   "source": [
    "repr(becca2)"
   ]
  },
  {
   "cell_type": "code",
   "execution_count": 66,
   "id": "6b4a9cae",
   "metadata": {},
   "outputs": [
    {
     "data": {
      "text/plain": [
       "__main__.Person"
      ]
     },
     "execution_count": 66,
     "metadata": {},
     "output_type": "execute_result"
    }
   ],
   "source": [
    "type(eval(repr(becca2)))"
   ]
  },
  {
   "cell_type": "code",
   "execution_count": 67,
   "id": "5d63abfb",
   "metadata": {},
   "outputs": [],
   "source": [
    "class User:\n",
    "    def __init__(self, name, password):\n",
    "        self.name, self.password = name, password\n",
    "        \n",
    "    def __str__(self):\n",
    "        return self.name\n",
    "    \n",
    "    def __repr__(self):\n",
    "        return f\"User('{self.name}', '{self.password}')\""
   ]
  },
  {
   "cell_type": "code",
   "execution_count": 68,
   "id": "6a8ea5c2",
   "metadata": {},
   "outputs": [
    {
     "name": "stdout",
     "output_type": "stream",
     "text": [
      "jay\n",
      "[User('jay', '0987')]\n"
     ]
    }
   ],
   "source": [
    "user = User('jay', '0987')\n",
    "print(user)\n",
    "print([user])"
   ]
  },
  {
   "cell_type": "code",
   "execution_count": 69,
   "id": "60d41680",
   "metadata": {},
   "outputs": [
    {
     "name": "stderr",
     "output_type": "stream",
     "text": [
      "[Error] Something went wrong\n"
     ]
    }
   ],
   "source": [
    "from functools import partial\n",
    "import sys\n",
    "redirect = lambda function, stream: partial(function, file = stream)\n",
    "prefix = lambda function, prefix: partial(function, prefix)\n",
    "error = prefix(redirect(print, sys.stderr), '[Error]')\n",
    "error('Something went wrong')"
   ]
  },
  {
   "cell_type": "code",
   "execution_count": 70,
   "id": "12c6bd5f",
   "metadata": {},
   "outputs": [
    {
     "name": "stdout",
     "output_type": "stream",
     "text": [
      "Hi, jay.\n"
     ]
    }
   ],
   "source": [
    "# expression example\n",
    "user = 'jay'\n",
    "print('Hi') if user is None else print(f'Hi, {user}.')"
   ]
  },
  {
   "cell_type": "code",
   "execution_count": 71,
   "id": "88b4db55",
   "metadata": {},
   "outputs": [
    {
     "name": "stdout",
     "output_type": "stream",
     "text": [
      "jdoe is 42 years old\n",
      "jdoe is 42 years old\n"
     ]
    }
   ],
   "source": [
    "# string concatenation with incompatible types\n",
    "values = ['jdoe', 'is', 42, 'years old']\n",
    "print(' '.join(map(str, values))) # handle manually\n",
    "print(*values) # sequence unpacking"
   ]
  },
  {
   "cell_type": "code",
   "execution_count": 72,
   "id": "855f3a08",
   "metadata": {},
   "outputs": [
    {
     "data": {
      "text/plain": [
       "<function pprint.pprint(object, stream=None, indent=1, width=80, depth=None, *, compact=False, sort_dicts=True, underscore_numbers=False)>"
      ]
     },
     "execution_count": 72,
     "metadata": {},
     "output_type": "execute_result"
    }
   ],
   "source": [
    "from pprint import pprint as pp\n",
    "pp"
   ]
  },
  {
   "cell_type": "code",
   "execution_count": 73,
   "id": "3ad1d6e7",
   "metadata": {},
   "outputs": [
    {
     "data": {
      "text/plain": [
       "<function print>"
      ]
     },
     "execution_count": 73,
     "metadata": {},
     "output_type": "execute_result"
    }
   ],
   "source": [
    "print"
   ]
  },
  {
   "cell_type": "code",
   "execution_count": 74,
   "id": "3180b26d",
   "metadata": {},
   "outputs": [
    {
     "name": "stdout",
     "output_type": "stream",
     "text": [
      "42\n",
      "42\n",
      "hello\n",
      "'hello'\n"
     ]
    }
   ],
   "source": [
    "print(42)\n",
    "pp(42)\n",
    "print('hello')\n",
    "pp('hello')"
   ]
  },
  {
   "cell_type": "code",
   "execution_count": 75,
   "id": "7e62405c",
   "metadata": {},
   "outputs": [
    {
     "name": "stdout",
     "output_type": "stream",
     "text": [
      "{'powers': [0,\n",
      "            1,\n",
      "            1024,\n",
      "            59049,\n",
      "            1048576,\n",
      "            9765625,\n",
      "            60466176,\n",
      "            282475249,\n",
      "            1073741824,\n",
      "            3486784401]}\n",
      "{'powers': [0, 1, 1024, 59049, 1048576, 9765625, 60466176, 282475249, 1073741824, 3486784401]}\n"
     ]
    }
   ],
   "source": [
    "data = {'powers': [x**10 for x in range(10)]}\n",
    "pp(data) # applies reasonable formatting to improve readability\n",
    "print(data)"
   ]
  },
  {
   "cell_type": "code",
   "execution_count": 76,
   "id": "1edb2e52",
   "metadata": {},
   "outputs": [
    {
     "name": "stdout",
     "output_type": "stream",
     "text": [
      "{'USA': {'Texas': {'Dallas': [...]}}}\n"
     ]
    }
   ],
   "source": [
    "# customize: limit a deeply nested hierarchy by showing an ellipsis below a given level\n",
    "cities = {'USA': {'Texas': {'Dallas': ['Irving']}}}\n",
    "pp(cities, depth = 3)"
   ]
  },
  {
   "cell_type": "code",
   "execution_count": 77,
   "id": "a5da44e1",
   "metadata": {},
   "outputs": [
    {
     "name": "stdout",
     "output_type": "stream",
     "text": [
      "[1, 2, 3, [...], [...]]\n",
      "[1,\n",
      " 2,\n",
      " 3,\n",
      " <Recursion on list with id=2183997667648>,\n",
      " <Recursion on list with id=2183997667648>]\n"
     ]
    }
   ],
   "source": [
    "# print() also uses ellipses but for displaying recursive data structures, which form a cycle, to avoid stack overflow error\n",
    "items = [1, 2, 3]\n",
    "items.append(items)\n",
    "items.append(items)\n",
    "print(items)\n",
    "pp(items)"
   ]
  },
  {
   "cell_type": "code",
   "execution_count": 78,
   "id": "9ff493a5",
   "metadata": {},
   "outputs": [
    {
     "data": {
      "text/plain": [
       "'[0, 1, 1024, 59049, 1048576, 9765625, ...]'"
      ]
     },
     "execution_count": 78,
     "metadata": {},
     "output_type": "execute_result"
    }
   ],
   "source": [
    "import reprlib\n",
    "reprlib.repr([x**10 for x in range(10)])"
   ]
  },
  {
   "cell_type": "code",
   "execution_count": 79,
   "id": "dbd282df",
   "metadata": {},
   "outputs": [
    {
     "name": "stdout",
     "output_type": "stream",
     "text": [
      "{\"username\": \"jdoe\", \"password\": \"s3cret\"}\n",
      "{\n",
      "    \"password\": \"s3cret\",\n",
      "    \"username\": \"jdoe\"\n",
      "}\n"
     ]
    }
   ],
   "source": [
    "# correctly serialize a dictionary into a valid JSON-formatted string,\n",
    "import json\n",
    "data = {'username': 'jdoe', 'password': 's3cret'}\n",
    "ugly = json.dumps(data)\n",
    "pretty = json.dumps(data, indent = 4, sort_keys = True)\n",
    "print(ugly)\n",
    "print(pretty)"
   ]
  },
  {
   "cell_type": "code",
   "execution_count": 80,
   "id": "9a2552c8",
   "metadata": {},
   "outputs": [
    {
     "data": {
      "text/plain": [
       "True"
      ]
     },
     "execution_count": 80,
     "metadata": {},
     "output_type": "execute_result"
    }
   ],
   "source": [
    "# non-printable Esc character, whose ASCII value -> check\n",
    "27 == 0x1b == 0o33"
   ]
  },
  {
   "cell_type": "code",
   "execution_count": 81,
   "id": "db592a93",
   "metadata": {},
   "outputs": [
    {
     "name": "stdout",
     "output_type": "stream",
     "text": [
      "\u001b[31;1;4mreally\u001b[0mimportant\n"
     ]
    }
   ],
   "source": [
    "def esc(code):\n",
    "    return f'\\033[{code}m'\n",
    "\n",
    "print(esc('31;1;4') + 'really' + esc(0) + 'important')"
   ]
  },
  {
   "cell_type": "code",
   "execution_count": 82,
   "id": "46ba4f8c",
   "metadata": {},
   "outputs": [
    {
     "name": "stdout",
     "output_type": "stream",
     "text": [
      "[(0, 19), (0, 18), (0, 17), (0, 16), (0, 15), (0, 14), (0, 13), (0, 12), (0, 11), (0, 10), (0, 9), (0, 8), (0, 7), (0, 6), (0, 5), (0, 4), (0, 3), (0, 2), (0, 1), (0, 0)]\n"
     ]
    }
   ],
   "source": [
    "snake = [(0, i) for i in reversed(range(20))]\n",
    "print(snake)"
   ]
  },
  {
   "cell_type": "code",
   "execution_count": 83,
   "id": "8b463735",
   "metadata": {},
   "outputs": [
    {
     "data": {
      "text/plain": [
       "[(0, 0), (19, 1)]"
      ]
     },
     "execution_count": 83,
     "metadata": {},
     "output_type": "execute_result"
    }
   ],
   "source": [
    "list(zip(snake[0], (0, 1))) # zip(): value in the same position combined to a new tuple"
   ]
  },
  {
   "cell_type": "code",
   "execution_count": 84,
   "id": "6402838f",
   "metadata": {},
   "outputs": [
    {
     "data": {
      "text/plain": [
       "<map at 0x1fcffd53c70>"
      ]
     },
     "execution_count": 84,
     "metadata": {},
     "output_type": "execute_result"
    }
   ],
   "source": [
    "map(sum, zip(snake[0], (0, 1))) # sum(): values in the same tuple summed up to a total number\n",
    "# map(): repeat the function with variables"
   ]
  },
  {
   "cell_type": "code",
   "execution_count": 85,
   "id": "4b38f474",
   "metadata": {},
   "outputs": [
    {
     "name": "stdout",
     "output_type": "stream",
     "text": [
      "[(0, 20), (0, 19), (0, 18), (0, 17), (0, 16), (0, 15), (0, 14), (0, 13), (0, 12), (0, 11), (0, 10), (0, 9), (0, 8), (0, 7), (0, 6), (0, 5), (0, 4), (0, 3), (0, 2), (0, 1), (0, 0)]\n"
     ]
    }
   ],
   "source": [
    "snake.insert(0, tuple(map(sum, zip(snake[0], (0, 1)))))\n",
    "print(snake)"
   ]
  },
  {
   "cell_type": "code",
   "execution_count": null,
   "id": "55baa0b4",
   "metadata": {},
   "outputs": [],
   "source": []
  },
  {
   "cell_type": "code",
   "execution_count": null,
   "id": "91f9a707",
   "metadata": {},
   "outputs": [],
   "source": []
  },
  {
   "cell_type": "code",
   "execution_count": null,
   "id": "2b8ffd72",
   "metadata": {},
   "outputs": [],
   "source": []
  },
  {
   "cell_type": "code",
   "execution_count": null,
   "id": "43b16588",
   "metadata": {},
   "outputs": [],
   "source": []
  },
  {
   "cell_type": "code",
   "execution_count": null,
   "id": "0a4666d5",
   "metadata": {},
   "outputs": [],
   "source": []
  },
  {
   "cell_type": "code",
   "execution_count": null,
   "id": "0aafbc70",
   "metadata": {},
   "outputs": [],
   "source": []
  },
  {
   "cell_type": "code",
   "execution_count": null,
   "id": "685a9747",
   "metadata": {},
   "outputs": [],
   "source": []
  },
  {
   "cell_type": "code",
   "execution_count": null,
   "id": "3369f499",
   "metadata": {},
   "outputs": [],
   "source": []
  },
  {
   "cell_type": "code",
   "execution_count": null,
   "id": "e3629e2f",
   "metadata": {},
   "outputs": [],
   "source": []
  },
  {
   "cell_type": "code",
   "execution_count": null,
   "id": "6e4b0665",
   "metadata": {},
   "outputs": [],
   "source": []
  },
  {
   "cell_type": "code",
   "execution_count": null,
   "id": "5778827e",
   "metadata": {},
   "outputs": [],
   "source": []
  }
 ],
 "metadata": {
  "kernelspec": {
   "display_name": "Python 3 (ipykernel)",
   "language": "python",
   "name": "python3"
  },
  "language_info": {
   "codemirror_mode": {
    "name": "ipython",
    "version": 3
   },
   "file_extension": ".py",
   "mimetype": "text/x-python",
   "name": "python",
   "nbconvert_exporter": "python",
   "pygments_lexer": "ipython3",
   "version": "3.10.13"
  }
 },
 "nbformat": 4,
 "nbformat_minor": 5
}
