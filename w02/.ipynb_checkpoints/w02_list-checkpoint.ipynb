{
 "cells": [
  {
   "cell_type": "code",
   "execution_count": 16,
   "id": "1a421263",
   "metadata": {},
   "outputs": [
    {
     "name": "stdout",
     "output_type": "stream",
     "text": [
      "bat\n",
      "rat\n",
      "['bat', 'rat', 'elephant']\n",
      "['cat', 'bat', 'rat']\n",
      "['cat', 'bat', 'rat', 'elephant']\n",
      "['rat', 'elephant']\n",
      "4\n",
      "['cat', 'aardvark', 'rat', 'elephant']\n",
      "['cat', 'aardvark', 'aardvark', 'elephant']\n",
      "['cat', 'aardvark', 'f', 'o', 'x']\n",
      "['cat', 'aardvark', 'fox', 'rabbit', 'x']\n"
     ]
    }
   ],
   "source": [
    "spam_1 = ['cat', 'bat', 'rat', 'elephant']\n",
    "# index\n",
    "print(spam_1[1])\n",
    "print(spam_1[-2])\n",
    "# slice\n",
    "print(spam_1[1:4])\n",
    "print(spam_1[0:-1])\n",
    "print(spam_1[:])\n",
    "print(spam_1[2:])\n",
    "# len\n",
    "print(len(spam_1))\n",
    "\n",
    "# change value\n",
    "spam_1[1] = 'aardvark'\n",
    "print(spam_1)\n",
    "spam_1[2] = spam_1[1]\n",
    "print(spam_1)\n",
    "\n",
    "spam_1[2:] = 'fox'\n",
    "print(spam_1)\n",
    "spam_1[2:4] = ['fox', 'rabbit']\n",
    "print(spam_1)"
   ]
  },
  {
   "cell_type": "code",
   "execution_count": 17,
   "id": "e59720b0",
   "metadata": {},
   "outputs": [
    {
     "name": "stdout",
     "output_type": "stream",
     "text": [
      "40\n"
     ]
    }
   ],
   "source": [
    "# list in a list\n",
    "spam_2 = [['cat', 'bat'], [10, 20, 30, 40, 50]]\n",
    "print(spam_2[1][3])"
   ]
  },
  {
   "cell_type": "code",
   "execution_count": 18,
   "id": "1c34cb91",
   "metadata": {},
   "outputs": [
    {
     "name": "stdout",
     "output_type": "stream",
     "text": [
      "[1, 2, 3, 'A', 'B', 'C']\n",
      "[1, 2, 3, 1, 2, 3, 1, 2, 3]\n",
      "[1, 2]\n"
     ]
    }
   ],
   "source": [
    "# concatination & replication\n",
    "spam_1 = [1, 2, 3]\n",
    "spam_2 = ['A', 'B', 'C']\n",
    "print(spam_1 + spam_2)\n",
    "print(spam_1 * 3)\n",
    "\n",
    "# delete\n",
    "del spam_1[2]\n",
    "print(spam_1)"
   ]
  },
  {
   "cell_type": "code",
   "execution_count": 19,
   "id": "6a296d16",
   "metadata": {},
   "outputs": [
    {
     "name": "stdout",
     "output_type": "stream",
     "text": [
      "Enter the name of cat1, or enter nothing to stop: a\n",
      "Enter the name of cat2, or enter nothing to stop: v\n",
      "Enter the name of cat3, or enter nothing to stop: \n",
      "The cat names are: a v "
     ]
    }
   ],
   "source": [
    "# structure\n",
    "catnames = []\n",
    "while True:\n",
    "    name = input('Enter the name of cat' + str(len(catnames) + 1) + ', or enter nothing to stop: ')\n",
    "    if name == '':\n",
    "        break\n",
    "    catnames += [name]\n",
    "    \n",
    "print('The cat names are: ', end = '')\n",
    "for name in catnames:\n",
    "    print(name, end = ' ')"
   ]
  },
  {
   "cell_type": "code",
   "execution_count": 20,
   "id": "fa1f5ec9",
   "metadata": {},
   "outputs": [
    {
     "name": "stdout",
     "output_type": "stream",
     "text": [
      "Index0 in supplies is: pens\n",
      "Index1 in supplies is: staplers\n",
      "Index2 in supplies is: flame-throwers\n",
      "Index3 in supplies is: binders\n"
     ]
    }
   ],
   "source": [
    "# loop\n",
    "supplies = ['pens', 'staplers', 'flame-throwers', 'binders']\n",
    "for i in range(len(supplies)):\n",
    "    print('Index' + str(i) + ' in supplies is: ' + supplies[i])"
   ]
  },
  {
   "cell_type": "code",
   "execution_count": 21,
   "id": "3b2d38bf",
   "metadata": {},
   "outputs": [
    {
     "name": "stdout",
     "output_type": "stream",
     "text": [
      "False\n",
      "False\n"
     ]
    }
   ],
   "source": [
    "# in/ not in\n",
    "spam = ['hello', 'hi', 'howdy', 'heyas']\n",
    "print('cat' in spam)\n",
    "print('howdy' not in spam)"
   ]
  },
  {
   "cell_type": "code",
   "execution_count": 22,
   "id": "bb6f77a7",
   "metadata": {},
   "outputs": [
    {
     "name": "stdout",
     "output_type": "stream",
     "text": [
      "Enter a pet name: a\n",
      "a is not my pet\n"
     ]
    }
   ],
   "source": [
    "pets = ['A', 'B', 'C']\n",
    "name = input('Enter a pet name: ')\n",
    "if name in pets:\n",
    "    print(name, 'is my pet.')\n",
    "else:\n",
    "    print(name, 'is not my pet')"
   ]
  },
  {
   "cell_type": "code",
   "execution_count": 23,
   "id": "e113660c",
   "metadata": {},
   "outputs": [
    {
     "name": "stdout",
     "output_type": "stream",
     "text": [
      "fat orange loud\n"
     ]
    }
   ],
   "source": [
    "# multiple assignment\n",
    "cat = ['fat', 'orange', 'loud']\n",
    "size, color, disposition = cat\n",
    "print(size, color, disposition)"
   ]
  },
  {
   "cell_type": "code",
   "execution_count": 24,
   "id": "78e02a91",
   "metadata": {},
   "outputs": [
    {
     "name": "stdout",
     "output_type": "stream",
     "text": [
      "Bob Alic\n"
     ]
    }
   ],
   "source": [
    "a, b = 'Alic', 'Bob'\n",
    "a, b = b, a\n",
    "print(a, b)"
   ]
  },
  {
   "cell_type": "code",
   "execution_count": 25,
   "id": "059104b8",
   "metadata": {},
   "outputs": [
    {
     "name": "stdout",
     "output_type": "stream",
     "text": [
      "['A', 'B']\n",
      "['A', 'B', 'A', 'B', 'A', 'B']\n"
     ]
    }
   ],
   "source": [
    "# augmented assignment\n",
    "name = ['A']\n",
    "name += ['B']\n",
    "print(name)\n",
    "name *= 3\n",
    "print(name)"
   ]
  },
  {
   "cell_type": "code",
   "execution_count": 26,
   "id": "1375b99a",
   "metadata": {},
   "outputs": [
    {
     "name": "stdout",
     "output_type": "stream",
     "text": [
      "1\n"
     ]
    }
   ],
   "source": [
    "# index()\n",
    "spam = ['Zophie', 'Pooka', 'Fat-tail', 'Pooka']\n",
    "print(spam.index('Pooka'))\n",
    "# print(spam.index('test'))"
   ]
  },
  {
   "cell_type": "code",
   "execution_count": 27,
   "id": "0f410a66",
   "metadata": {},
   "outputs": [
    {
     "name": "stdout",
     "output_type": "stream",
     "text": [
      "['cat', 'dog', 'bat', 'moose']\n",
      "['cat', 'chicken', 'dog', 'bat', 'moose']\n",
      "['cat', 'chicken', 'dog', 'bat', 'moose', 'cow', 'elephant']\n",
      "['cow', 'elephant']\n"
     ]
    }
   ],
   "source": [
    "# append()/ insert()/ extend()\n",
    "spam = ['cat', 'dog', 'bat']\n",
    "spam.append('moose')\n",
    "print(spam)\n",
    "spam.insert(1, 'chicken')\n",
    "print(spam)\n",
    "\n",
    "spam_2 = ['cow', 'elephant']\n",
    "spam.extend(spam_2)\n",
    "print(spam)\n",
    "spam[-1] = 'fox'\n",
    "print(spam_2)"
   ]
  },
  {
   "cell_type": "code",
   "execution_count": 28,
   "id": "4910c321",
   "metadata": {},
   "outputs": [
    {
     "name": "stdout",
     "output_type": "stream",
     "text": [
      "['cat', 'rat', 'cat', 'hat', 'cat', 'cow', 'fox', 'rat', 'cat', 'hat', 'cat', 'cow', 'fox']\n",
      "['rat', 'cat', 'hat', 'cat', 'cow', 'fox', 'rat', 'cat', 'hat', 'cat', 'cow', 'fox']\n",
      "['rat', 'cat', 'cat', 'cow', 'fox', 'rat', 'cat', 'hat', 'cat', 'cow', 'fox']\n",
      "['rat', 'cat', 'rat', 'cat', 'hat', 'cat', 'cow', 'fox']\n",
      "['rat', 'cat', 'rat', 'hat', 'cat', 'cow', 'fox']\n",
      "cat\n"
     ]
    }
   ],
   "source": [
    "# remove()\n",
    "spam = ['cat', 'bat', 'rat', 'cat', 'hat', 'cat', 'cow', 'fox', 'rat', 'cat', 'hat', 'cat', 'cow', 'fox']\n",
    "spam.remove('bat')\n",
    "print(spam)\n",
    "spam.remove('cat')\n",
    "print(spam)\n",
    "\n",
    "# vs delete\n",
    "del spam[2]\n",
    "print(spam)\n",
    "del spam[2:5]\n",
    "print(spam)\n",
    "\n",
    "# The del statement is good to use when you know the index of the value you want to remove from the list. \n",
    "# The remove() method is good when you know the value you want to remove from the list.\n",
    "\n",
    "\n",
    "# pop()\n",
    "no_need = spam.pop(3)\n",
    "print(spam)\n",
    "print(no_need)"
   ]
  },
  {
   "cell_type": "code",
   "execution_count": 29,
   "id": "514896c3",
   "metadata": {},
   "outputs": [
    {
     "name": "stdout",
     "output_type": "stream",
     "text": [
      "[-7, 1, 2, 3.14, 5]\n",
      "['ants', 'badgers', 'cats', 'dogs', 'elephants']\n",
      "['elephants', 'dogs', 'cats', 'badgers', 'ants']\n",
      "['Alice', 'Bob', 'Carol', 'ants', 'badgers', 'cats']\n",
      "['Alice', 'ants', 'badgers', 'Bob', 'Carol', 'cats']\n"
     ]
    }
   ],
   "source": [
    "# sort()\n",
    "spam = [2, 5, 3.14, 1, -7]\n",
    "spam.sort()\n",
    "print(spam)\n",
    "\n",
    "spam = ['ants', 'cats', 'dogs', 'badgers', 'elephants']\n",
    "spam.sort()\n",
    "print(spam)\n",
    "spam.sort(reverse = True)\n",
    "print(spam)\n",
    "\n",
    "# 1. sorts the list in place; don’t try to capture the return value (get None)\n",
    "# 2. cannot sort lists that have both number values and string values in them\n",
    "# 3.  sort() uses “ASCIIbetical order” rather than actual alphabetical order for sorting strings. \n",
    "# This means uppercase letters come before lowercase letters.\n",
    "\n",
    "spam = ['Alice', 'ants', 'Bob', 'badgers', 'Carol', 'cats']\n",
    "spam.sort()\n",
    "print(spam)\n",
    "\n",
    "# If you need to sort the values in regular alphabetical order, pass str. lower for the key \n",
    "spam.sort(key = str.lower)\n",
    "print(spam)"
   ]
  },
  {
   "cell_type": "code",
   "execution_count": 30,
   "id": "b8e5f511",
   "metadata": {},
   "outputs": [
    {
     "name": "stdout",
     "output_type": "stream",
     "text": [
      "It is decidedly so\n"
     ]
    }
   ],
   "source": [
    "# random\n",
    "import random\n",
    "messages = ['It is certain',\n",
    "    'It is decidedly so',\n",
    "    'Yes definitely',\n",
    "    'Reply hazy try again',\n",
    "    'Ask again later',\n",
    "    'Concentrate and ask again',\n",
    "    'My reply is no',\n",
    "    'Outlook not so good',\n",
    "    'Very doubtful']\n",
    "\n",
    "# print('test indentation in the same line with ' + \\\n",
    "#         'add message')\n",
    "message = messages[random.randint(0, len(messages) - 1)]\n",
    "print(message)"
   ]
  },
  {
   "cell_type": "code",
   "execution_count": 31,
   "id": "c82be1ea",
   "metadata": {},
   "outputs": [
    {
     "name": "stdout",
     "output_type": "stream",
     "text": [
      "6\n"
     ]
    }
   ],
   "source": [
    "# sum()\n",
    "spam = [1, 2, 3]\n",
    "print(sum(spam))"
   ]
  },
  {
   "cell_type": "code",
   "execution_count": 32,
   "id": "c44d51d6",
   "metadata": {},
   "outputs": [
    {
     "name": "stdout",
     "output_type": "stream",
     "text": [
      "e\n",
      "op\n",
      "True\n",
      "False\n",
      "***Z***\n",
      "***o***\n",
      "***p***\n",
      "***h***\n",
      "***i***\n",
      "***e***\n"
     ]
    }
   ],
   "source": [
    "# string similarity\n",
    "name = 'Zophie'\n",
    "print(name[-1])\n",
    "print(name[1:3])\n",
    "print('Zo' in name)\n",
    "print('ie' not in name)\n",
    "for i in name:\n",
    "    print('***' + i + '***')"
   ]
  },
  {
   "cell_type": "code",
   "execution_count": 33,
   "id": "8eedef05",
   "metadata": {},
   "outputs": [
    {
     "name": "stdout",
     "output_type": "stream",
     "text": [
      "Zophie the cat\n"
     ]
    }
   ],
   "source": [
    "# mutable/ immutable\n",
    "name = 'Zophie a cat'\n",
    "# name[7] = 'the' #error\n",
    "new_name = name[:7] + 'the' + name[8:]\n",
    "print(new_name)"
   ]
  },
  {
   "cell_type": "code",
   "execution_count": 34,
   "id": "6d7aa782",
   "metadata": {},
   "outputs": [],
   "source": [
    "# tuple vs list\n",
    "# 1. tuples are typed with parentheses, ( and ), instead of square brackets, [ and ]\n",
    "# 2. tuples, like strings, are immutable. Tuples cannot have their values modified, appended, or removed.\n",
    "eggs = ('hello', 42, 0.5)\n",
    "# eggs[1] = 99 # error"
   ]
  },
  {
   "cell_type": "code",
   "execution_count": 35,
   "id": "84429b0e",
   "metadata": {},
   "outputs": [
    {
     "name": "stdout",
     "output_type": "stream",
     "text": [
      "<class 'tuple'>\n",
      "<class 'str'>\n"
     ]
    }
   ],
   "source": [
    "# If you have only one value in your tuple, you can indicate this by placing a trailing comma after the value \n",
    "# inside the parentheses. Otherwise, Python will think you’ve just typed a value inside regular parentheses. \n",
    "# The comma is what lets Python know this is a tuple value.\n",
    "print(type(('H',)))\n",
    "print(type(('H')))\n",
    "# 1. You can use tuples to convey to anyone reading your code that you don’t intend for that sequence of values to change. \n",
    "# If you need an ordered sequence of values that never changes, use a tuple. \n",
    "# 2. because they are immutable and their contents don’t change, Python can implement some optimizations \n",
    "# that make code using tuples slightly faster than code using lists."
   ]
  },
  {
   "cell_type": "code",
   "execution_count": 36,
   "id": "d67cc9c9",
   "metadata": {},
   "outputs": [
    {
     "name": "stdout",
     "output_type": "stream",
     "text": [
      "('cat', 'dog', 5)\n",
      "['cat', 'dog', 5]\n",
      "('h', 'e', 'l', 'l', 'o')\n",
      "['h', 'e', 'l', 'l', 'o']\n"
     ]
    }
   ],
   "source": [
    "# convert type\n",
    "print(tuple(['cat', 'dog', 5]))\n",
    "print(list(('cat', 'dog', 5)))\n",
    "print(tuple('hello'))\n",
    "print(list('hello'))"
   ]
  },
  {
   "cell_type": "code",
   "execution_count": 37,
   "id": "e268c9c8",
   "metadata": {},
   "outputs": [
    {
     "name": "stdout",
     "output_type": "stream",
     "text": [
      "100\n",
      "42\n",
      "[0, 'hey', 2, 3, 4, 5]\n",
      "[0, 'hey', 2, 3, 4, 5]\n",
      "[0, 'hey', 'see', 3, 4, 5]\n",
      "[0, 'hey', 'see', 3, 4, 5]\n"
     ]
    }
   ],
   "source": [
    "# reference\n",
    "spam = 42\n",
    "chess = spam\n",
    "spam = 100\n",
    "print(spam)\n",
    "print(chess) # --> store different values\n",
    "\n",
    "spam =  [0, 1, 2, 3, 4, 5]\n",
    "chess = spam\n",
    "chess[1] = 'hey'\n",
    "print(spam)\n",
    "print(chess)\n",
    "spam[2] = 'see'\n",
    "print(spam)\n",
    "print(chess) #--> store the same reference to list values\n",
    "# ***Python uses references whenever variables must store values of mutable data types, such as lists or dictionaries. \n",
    "# For values of immutable data types such as strings, integers, or tuples, Python variables will store the value itself."
   ]
  },
  {
   "cell_type": "code",
   "execution_count": 38,
   "id": "4c479bd7",
   "metadata": {},
   "outputs": [
    {
     "name": "stdout",
     "output_type": "stream",
     "text": [
      "['A', 'B', 'C', 'D']\n",
      "['A', 'test', 'C', 'D']\n"
     ]
    }
   ],
   "source": [
    "# copy <module>\n",
    "import copy\n",
    "spam = ['A', 'B', 'C', 'D']\n",
    "chess = copy.copy(spam)\n",
    "chess[1] = 'test'\n",
    "print(spam)\n",
    "print(chess)\n",
    "\n",
    "# If the list you need to copy contains lists, then use the copy.deepcopy() function instead of copy.copy(). \n",
    "# The deepcopy() function will copy these inner lists as well."
   ]
  },
  {
   "cell_type": "code",
   "execution_count": 39,
   "id": "150f24a3",
   "metadata": {},
   "outputs": [
    {
     "name": "stdout",
     "output_type": "stream",
     "text": [
      "apples, bananas, tofu, and cats"
     ]
    }
   ],
   "source": [
    "# practice01\n",
    "spam = ['apples', 'bananas', 'tofu', 'cats']\n",
    "\n",
    "def getitems(ls):\n",
    "    for i in range(len(ls)):\n",
    "        if i == len(ls) - 2:\n",
    "            print(ls[i], end = ', and ')\n",
    "        elif i == len(ls) - 1:\n",
    "            print(ls[i], end = '')\n",
    "        else:\n",
    "            print(ls[i], end = ', ')\n",
    "            \n",
    "getitems(spam)"
   ]
  },
  {
   "cell_type": "code",
   "execution_count": 40,
   "id": "b91c716c",
   "metadata": {},
   "outputs": [
    {
     "name": "stdout",
     "output_type": "stream",
     "text": [
      "..OO.OO..\n",
      ".OOOOOOO.\n",
      ".OOOOOOO.\n",
      "..OOOOO..\n",
      "...OOO...\n",
      "....O....\n"
     ]
    }
   ],
   "source": [
    "# practice 02\n",
    "grid = [['.', '.', '.', '.', '.', '.'],\n",
    "        ['.', 'O', 'O', '.', '.', '.'],\n",
    "        ['O', 'O', 'O', 'O', '.', '.'],\n",
    "        ['O', 'O', 'O', 'O', 'O', '.'],\n",
    "        ['.', 'O', 'O', 'O', 'O', 'O'],\n",
    "        ['O', 'O', 'O', 'O', 'O', '.'],\n",
    "        ['O', 'O', 'O', 'O', '.', '.'],\n",
    "        ['.', 'O', 'O', '.', '.', '.'],\n",
    "        ['.', '.', '.', '.', '.', '.']]\n",
    "\n",
    "for i in range(len(grid[1])):\n",
    "    for j in range(len(grid)):\n",
    "        print(grid[j][i], end = '')\n",
    "    print()"
   ]
  },
  {
   "cell_type": "code",
   "execution_count": 41,
   "id": "87d6c87d",
   "metadata": {},
   "outputs": [],
   "source": [
    "def capitalize_all(ls):\n",
    "    new = []\n",
    "    for e in ls:\n",
    "        new.append(e.capitalize())\n",
    "    return new\n",
    "\n",
    "\n",
    "def only_upper(ls):\n",
    "    new = []\n",
    "    for e in ls:\n",
    "        if e.isupper():\n",
    "            new.append()\n",
    "    return new"
   ]
  },
  {
   "cell_type": "code",
   "execution_count": 42,
   "id": "f90ddd5c",
   "metadata": {},
   "outputs": [
    {
     "name": "stdout",
     "output_type": "stream",
     "text": [
      "['I', ' ', 'w', 'a', 'n', 't', ' ', 'y', 'o', 'u']\n",
      "['I', 'want', 'you']\n",
      "pining for the fjords\n"
     ]
    }
   ],
   "source": [
    "# list()/ split()/ join()\n",
    "spam = 'I want you'\n",
    "t = ['pining', 'for', 'the', 'fjords']\n",
    "print(list(spam))\n",
    "print(spam.split())\n",
    "print(' '.join(t))"
   ]
  },
  {
   "cell_type": "code",
   "execution_count": 43,
   "id": "6e45011e",
   "metadata": {},
   "outputs": [
    {
     "name": "stdout",
     "output_type": "stream",
     "text": [
      "True\n",
      "False\n"
     ]
    }
   ],
   "source": [
    "a = 'banana'\n",
    "b = 'banana'\n",
    "print(a is b)\n",
    "\n",
    "a = [1, 2, 3]\n",
    "b = [1, 2, 3]\n",
    "print(a is b)"
   ]
  },
  {
   "cell_type": "code",
   "execution_count": 2,
   "id": "c9b5569a",
   "metadata": {},
   "outputs": [
    {
     "name": "stdout",
     "output_type": "stream",
     "text": [
      "[1, 2, 3]\n",
      "None\n",
      "[1, 2]\n",
      "[1, 2, 3]\n"
     ]
    }
   ],
   "source": [
    "t1 = [1, 2]\n",
    "t2 = t1.append(3)\n",
    "print(t1)\n",
    "print(t2)\n",
    "\n",
    "t1 = [1, 2]\n",
    "t2 = t1 + [3]\n",
    "print(t1)\n",
    "print(t2)"
   ]
  },
  {
   "cell_type": "code",
   "execution_count": null,
   "id": "52e21b86",
   "metadata": {},
   "outputs": [],
   "source": []
  },
  {
   "cell_type": "code",
   "execution_count": null,
   "id": "d2838194",
   "metadata": {},
   "outputs": [],
   "source": []
  },
  {
   "cell_type": "code",
   "execution_count": null,
   "id": "79bbcc24",
   "metadata": {},
   "outputs": [],
   "source": []
  },
  {
   "cell_type": "code",
   "execution_count": null,
   "id": "c3797bbd",
   "metadata": {},
   "outputs": [],
   "source": []
  },
  {
   "cell_type": "code",
   "execution_count": null,
   "id": "b752d350",
   "metadata": {},
   "outputs": [],
   "source": []
  },
  {
   "cell_type": "code",
   "execution_count": null,
   "id": "34589577",
   "metadata": {},
   "outputs": [],
   "source": []
  },
  {
   "cell_type": "code",
   "execution_count": null,
   "id": "ca707ef0",
   "metadata": {},
   "outputs": [],
   "source": []
  },
  {
   "cell_type": "code",
   "execution_count": null,
   "id": "b5a1e4b8",
   "metadata": {},
   "outputs": [],
   "source": []
  },
  {
   "cell_type": "code",
   "execution_count": null,
   "id": "f132e579",
   "metadata": {},
   "outputs": [],
   "source": []
  },
  {
   "cell_type": "code",
   "execution_count": null,
   "id": "f99d7fc5",
   "metadata": {},
   "outputs": [],
   "source": []
  },
  {
   "cell_type": "code",
   "execution_count": null,
   "id": "4807e48e",
   "metadata": {},
   "outputs": [],
   "source": []
  },
  {
   "cell_type": "code",
   "execution_count": null,
   "id": "5a8e559e",
   "metadata": {},
   "outputs": [],
   "source": []
  },
  {
   "cell_type": "code",
   "execution_count": null,
   "id": "10aa00d1",
   "metadata": {},
   "outputs": [],
   "source": []
  }
 ],
 "metadata": {
  "kernelspec": {
   "display_name": "Python 3 (ipykernel)",
   "language": "python",
   "name": "python3"
  },
  "language_info": {
   "codemirror_mode": {
    "name": "ipython",
    "version": 3
   },
   "file_extension": ".py",
   "mimetype": "text/x-python",
   "name": "python",
   "nbconvert_exporter": "python",
   "pygments_lexer": "ipython3",
   "version": "3.10.13"
  }
 },
 "nbformat": 4,
 "nbformat_minor": 5
}
