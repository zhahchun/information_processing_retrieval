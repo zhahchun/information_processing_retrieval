{
 "cells": [
  {
   "cell_type": "code",
   "execution_count": 6,
   "id": "1496c3dc",
   "metadata": {},
   "outputs": [
    {
     "name": "stdout",
     "output_type": "stream",
     "text": [
      "32\n",
      "3\n",
      "-2\n"
     ]
    }
   ],
   "source": [
    "# int()\n",
    "print(int('32'))\n",
    "# int('hello')\n",
    "print(int(3.999))\n",
    "print(int(-2.333))"
   ]
  },
  {
   "cell_type": "code",
   "execution_count": 8,
   "id": "bf713df1",
   "metadata": {},
   "outputs": [
    {
     "name": "stdout",
     "output_type": "stream",
     "text": [
      "23.456\n",
      "32.0\n"
     ]
    }
   ],
   "source": [
    "# float()\n",
    "print(float('23.456'))\n",
    "print(float(32))"
   ]
  },
  {
   "cell_type": "code",
   "execution_count": 9,
   "id": "a1dc5f4c",
   "metadata": {},
   "outputs": [
    {
     "name": "stdout",
     "output_type": "stream",
     "text": [
      "32\n",
      "4.789\n"
     ]
    }
   ],
   "source": [
    "# str()\n",
    "print(str(32))\n",
    "print(str(4.789))"
   ]
  },
  {
   "cell_type": "code",
   "execution_count": 13,
   "id": "155ba44d",
   "metadata": {},
   "outputs": [
    {
     "name": "stdout",
     "output_type": "stream",
     "text": [
      "3.010299956639812\n"
     ]
    }
   ],
   "source": [
    "import math\n",
    "signal_power, noise_power = 20, 10\n",
    "ratio = signal_power / noise_power\n",
    "decibles = 10 * math.log10(ratio)\n",
    "print(decibles)"
   ]
  },
  {
   "cell_type": "code",
   "execution_count": 14,
   "id": "89c782c9",
   "metadata": {},
   "outputs": [
    {
     "name": "stdout",
     "output_type": "stream",
     "text": [
      "0.644217687237691\n"
     ]
    }
   ],
   "source": [
    "radians = 0.7\n",
    "height = math.sin(radians)\n",
    "print(height)"
   ]
  },
  {
   "cell_type": "code",
   "execution_count": null,
   "id": "c9dffddf",
   "metadata": {},
   "outputs": [],
   "source": [
    "degree = 45\n",
    "radians = (degree / 180) * math.pi\n",
    "print(math.sin(radians))"
   ]
  },
  {
   "cell_type": "code",
   "execution_count": 1,
   "id": "b9369975",
   "metadata": {},
   "outputs": [
    {
     "name": "stdout",
     "output_type": "stream",
     "text": [
      "                                                                 monty\n"
     ]
    }
   ],
   "source": [
    "# exercise1\n",
    "def right_justify(s):\n",
    "    s_len = len(s)\n",
    "    left_len = 70 - s_len\n",
    "    print(' ' * left_len + s)\n",
    "\n",
    "right_justify('monty')"
   ]
  },
  {
   "cell_type": "code",
   "execution_count": 6,
   "id": "c924cbf7",
   "metadata": {},
   "outputs": [],
   "source": [
    "def do_twice(f, sen):\n",
    "    f(sen)\n",
    "    f(sen)\n",
    "\n",
    "def print_spam(sen):\n",
    "    print(sen)\n",
    "\n",
    "# do_twice(print_spam, 'new')\n",
    "\n",
    "def print_twice(bruce):\n",
    "    print(bruce)\n",
    "    print(bruce)\n",
    "    \n",
    "# do_twice(print_twice, 'spam')"
   ]
  },
  {
   "cell_type": "code",
   "execution_count": 7,
   "id": "dc5015fd",
   "metadata": {},
   "outputs": [
    {
     "name": "stdout",
     "output_type": "stream",
     "text": [
      "+ ---- + ---- +\n",
      "/      /      /\n",
      "/      /      /\n",
      "/      /      /\n",
      "/      /      /\n",
      "+ ---- + ---- +\n",
      "/      /      /\n",
      "/      /      /\n",
      "/      /      /\n",
      "/      /      /\n",
      "+ ---- + ---- +\n"
     ]
    }
   ],
   "source": [
    "def print_style(sign1, sign2):\n",
    "    print(sign1, sign2 * 4, sign1, sign2 * 4, sign1)\n",
    "\n",
    "print_style('+', '-')\n",
    "for i in range(4):\n",
    "    print_style('/', ' ')\n",
    "print_style('+', '-')\n",
    "for i in range(4):\n",
    "    print_style('/', ' ')\n",
    "print_style('+', '-')"
   ]
  },
  {
   "cell_type": "code",
   "execution_count": 1,
   "id": "6bcd7d9a",
   "metadata": {},
   "outputs": [
    {
     "ename": "ZeroDivisionError",
     "evalue": "division by zero",
     "output_type": "error",
     "traceback": [
      "\u001b[1;31m---------------------------------------------------------------------------\u001b[0m",
      "\u001b[1;31mZeroDivisionError\u001b[0m                         Traceback (most recent call last)",
      "Cell \u001b[1;32mIn[1], line 5\u001b[0m\n\u001b[0;32m      2\u001b[0m \u001b[38;5;28;01mdef\u001b[39;00m \u001b[38;5;21mspam\u001b[39m(divideby):\n\u001b[0;32m      3\u001b[0m     \u001b[38;5;28;01mreturn\u001b[39;00m \u001b[38;5;241m42\u001b[39m \u001b[38;5;241m/\u001b[39m divideby\n\u001b[1;32m----> 5\u001b[0m \u001b[38;5;28mprint\u001b[39m(\u001b[43mspam\u001b[49m\u001b[43m(\u001b[49m\u001b[38;5;241;43m0\u001b[39;49m\u001b[43m)\u001b[49m)\n",
      "Cell \u001b[1;32mIn[1], line 3\u001b[0m, in \u001b[0;36mspam\u001b[1;34m(divideby)\u001b[0m\n\u001b[0;32m      2\u001b[0m \u001b[38;5;28;01mdef\u001b[39;00m \u001b[38;5;21mspam\u001b[39m(divideby):\n\u001b[1;32m----> 3\u001b[0m     \u001b[38;5;28;01mreturn\u001b[39;00m \u001b[38;5;241;43m42\u001b[39;49m\u001b[43m \u001b[49m\u001b[38;5;241;43m/\u001b[39;49m\u001b[43m \u001b[49m\u001b[43mdivideby\u001b[49m\n",
      "\u001b[1;31mZeroDivisionError\u001b[0m: division by zero"
     ]
    }
   ],
   "source": [
    "# exception handling\n",
    "def spam(divideby):\n",
    "    return 42 / divideby\n",
    "\n",
    "print(spam(0))"
   ]
  },
  {
   "cell_type": "code",
   "execution_count": 2,
   "id": "4c9cc528",
   "metadata": {},
   "outputs": [
    {
     "name": "stdout",
     "output_type": "stream",
     "text": [
      "Error: Invalid argument.\n",
      "None\n"
     ]
    }
   ],
   "source": [
    "def spam(divideby):\n",
    "    try:\n",
    "        return 42 / divideby\n",
    "    except ZeroDivisionError:\n",
    "        print('Error: Invalid argument.')\n",
    "\n",
    "print(spam(0))"
   ]
  },
  {
   "cell_type": "code",
   "execution_count": 6,
   "id": "0300a8d8",
   "metadata": {},
   "outputs": [
    {
     "name": "stdout",
     "output_type": "stream",
     "text": [
      "I am thinking of a number between 1 and 20.\n",
      "Take a guess.10\n",
      "Your guess is too low.\n",
      "Take a guess.15\n",
      "Your guess is too low.\n",
      "Take a guess.18\n",
      "Your guess is too high.\n",
      "Take a guess.16\n",
      "Your guess is too low.\n",
      "Take a guess.17\n",
      "Good job! You guessed my number in 5 guesses!\n"
     ]
    }
   ],
   "source": [
    "import random\n",
    "num = random.randint(1, 20)\n",
    "print('I am thinking of a number between 1 and 20.')\n",
    "guess_num = 0\n",
    "\n",
    "while True:\n",
    "    guess = int(input('Take a guess.'))\n",
    "    if guess > num:\n",
    "        print('Your guess is too high.')\n",
    "    elif guess < num:\n",
    "        print('Your guess is too low.')\n",
    "    else:\n",
    "        break\n",
    "        \n",
    "    guess_num += 1\n",
    "\n",
    "print('Good job! You guessed my number in {} guesses!'.format(guess_num + 1))"
   ]
  },
  {
   "cell_type": "code",
   "execution_count": 12,
   "id": "c12f66eb",
   "metadata": {},
   "outputs": [
    {
     "name": "stdout",
     "output_type": "stream",
     "text": [
      "Please enter a number: 5\n",
      "16\n",
      "8\n",
      "4\n",
      "2\n",
      "1\n"
     ]
    }
   ],
   "source": [
    "# collatz sequence\n",
    "def collatz(number):\n",
    "    if number % 2 == 0:\n",
    "        number = number // 2\n",
    "        return number\n",
    "    else:\n",
    "        number = number * 3 +1\n",
    "        return number\n",
    "\n",
    "try:\n",
    "    num = int(input('Please enter a number: '))  \n",
    "    while True:  \n",
    "        num = collatz(num)\n",
    "        print(num)\n",
    "        if num == 1:\n",
    "            break\n",
    "except ValueError:\n",
    "    print('You must enter an integer.')"
   ]
  },
  {
   "cell_type": "code",
   "execution_count": null,
   "id": "4e044896",
   "metadata": {},
   "outputs": [],
   "source": []
  },
  {
   "cell_type": "code",
   "execution_count": null,
   "id": "dfb7ac1f",
   "metadata": {},
   "outputs": [],
   "source": []
  },
  {
   "cell_type": "code",
   "execution_count": null,
   "id": "ec5c76d3",
   "metadata": {},
   "outputs": [],
   "source": []
  },
  {
   "cell_type": "code",
   "execution_count": null,
   "id": "69682e02",
   "metadata": {},
   "outputs": [],
   "source": []
  },
  {
   "cell_type": "code",
   "execution_count": null,
   "id": "0133f121",
   "metadata": {},
   "outputs": [],
   "source": []
  },
  {
   "cell_type": "code",
   "execution_count": null,
   "id": "883859e7",
   "metadata": {},
   "outputs": [],
   "source": []
  },
  {
   "cell_type": "code",
   "execution_count": null,
   "id": "1601845a",
   "metadata": {},
   "outputs": [],
   "source": []
  },
  {
   "cell_type": "code",
   "execution_count": null,
   "id": "d58f8495",
   "metadata": {},
   "outputs": [],
   "source": []
  },
  {
   "cell_type": "code",
   "execution_count": null,
   "id": "cd6dd418",
   "metadata": {},
   "outputs": [],
   "source": []
  },
  {
   "cell_type": "code",
   "execution_count": null,
   "id": "9d5f686c",
   "metadata": {},
   "outputs": [],
   "source": []
  },
  {
   "cell_type": "code",
   "execution_count": null,
   "id": "798a36d3",
   "metadata": {},
   "outputs": [],
   "source": []
  },
  {
   "cell_type": "code",
   "execution_count": null,
   "id": "4d67bfe0",
   "metadata": {},
   "outputs": [],
   "source": []
  },
  {
   "cell_type": "code",
   "execution_count": null,
   "id": "c2231b2a",
   "metadata": {},
   "outputs": [],
   "source": []
  },
  {
   "cell_type": "code",
   "execution_count": null,
   "id": "eb8b9b1b",
   "metadata": {},
   "outputs": [],
   "source": []
  },
  {
   "cell_type": "code",
   "execution_count": null,
   "id": "5a002a35",
   "metadata": {},
   "outputs": [],
   "source": []
  }
 ],
 "metadata": {
  "kernelspec": {
   "display_name": "Python 3 (ipykernel)",
   "language": "python",
   "name": "python3"
  },
  "language_info": {
   "codemirror_mode": {
    "name": "ipython",
    "version": 3
   },
   "file_extension": ".py",
   "mimetype": "text/x-python",
   "name": "python",
   "nbconvert_exporter": "python",
   "pygments_lexer": "ipython3",
   "version": "3.10.13"
  }
 },
 "nbformat": 4,
 "nbformat_minor": 5
}
