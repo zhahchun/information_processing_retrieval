{
 "cells": [
  {
   "cell_type": "code",
   "execution_count": 10,
   "id": "ff3c2a81",
   "metadata": {},
   "outputs": [],
   "source": [
    "import time\n",
    "import datetime"
   ]
  },
  {
   "cell_type": "code",
   "execution_count": 3,
   "id": "c4f0702c",
   "metadata": {},
   "outputs": [
    {
     "data": {
      "text/plain": [
       "1699284865.8455448"
      ]
     },
     "execution_count": 3,
     "metadata": {},
     "output_type": "execute_result"
    }
   ],
   "source": [
    "# time.time()\n",
    "time.time()"
   ]
  },
  {
   "cell_type": "code",
   "execution_count": 5,
   "id": "8ddc1a2c",
   "metadata": {},
   "outputs": [
    {
     "name": "stdout",
     "output_type": "stream",
     "text": [
      "The calculation took 0.0 seconds.\n"
     ]
    }
   ],
   "source": [
    "start_time = time.time()\n",
    "test = 2**60\n",
    "end_time = time.time()\n",
    "print('The calculation took %s seconds.' % (end_time - start_time))"
   ]
  },
  {
   "cell_type": "code",
   "execution_count": 6,
   "id": "a55c1bcf",
   "metadata": {},
   "outputs": [
    {
     "name": "stdout",
     "output_type": "stream",
     "text": [
      "Tick\n",
      "Tock\n",
      "Tick\n",
      "Tock\n",
      "Tick\n",
      "Tock\n"
     ]
    }
   ],
   "source": [
    "# time.sleep(int)\n",
    "for i in range(3):\n",
    "    print('Tick')\n",
    "    time.sleep(1)\n",
    "    print('Tock')\n",
    "    time.sleep(1)"
   ]
  },
  {
   "cell_type": "code",
   "execution_count": null,
   "id": "eedc020a",
   "metadata": {},
   "outputs": [],
   "source": [
    "# KeyboardInterrupt exception\n",
    "# time.sleep(30)\n",
    "for i in range(30):\n",
    "    time.sleep(1)"
   ]
  },
  {
   "cell_type": "code",
   "execution_count": 7,
   "id": "0f0877bf",
   "metadata": {},
   "outputs": [
    {
     "name": "stdout",
     "output_type": "stream",
     "text": [
      "1699286389.685565\n",
      "1699286389.69\n",
      "1699286390\n"
     ]
    }
   ],
   "source": [
    "# round(num, int)\n",
    "now = time.time()\n",
    "print(now)\n",
    "round_now1 = round(now, 2)\n",
    "print(round_now1)\n",
    "round_now2 = round(now)\n",
    "print(round_now2)"
   ]
  },
  {
   "cell_type": "code",
   "execution_count": 9,
   "id": "6cc14b72",
   "metadata": {},
   "outputs": [
    {
     "name": "stdout",
     "output_type": "stream",
     "text": [
      "Press ENTER to begin. Afterwards, press ENTER to \"click\" the stopwatch. Press Ctrl-C to quit.\n",
      "\n",
      "Started.\n",
      "\n",
      "Lap #1: 0.67 (0.67)\n",
      "Lap #2: 1.6 (0.93)\n",
      "Lap #3: 3.19 (1.59)\n",
      "Done.\n",
      "\n"
     ]
    }
   ],
   "source": [
    "# time tracker (stopwatch program)\n",
    "print('Press ENTER to begin. Afterwards, press ENTER to \"click\" the stopwatch. Press Ctrl-C to quit.')\n",
    "input()  # press enter to begin\n",
    "print('Started.')\n",
    "start_time = time.time()\n",
    "last_time = start_time\n",
    "lap_num = 1 # set lap count to 1\n",
    "\n",
    "try:\n",
    "    while True:\n",
    "        input()\n",
    "        lap_time = round(time.time() - last_time, 2)\n",
    "        total_time = round(time.time() - start_time, 2)\n",
    "        print('Lap #%s: %s (%s)' % (lap_num, total_time, lap_time), end = '')\n",
    "        lap_num += 1\n",
    "        last_time = time.time()\n",
    "except KeyboardInterrupt:\n",
    "    # Handle the Ctrl-C exception to keep its error message from displaying.\n",
    "    print('\\nDone.')"
   ]
  },
  {
   "cell_type": "code",
   "execution_count": 11,
   "id": "7e08eddc",
   "metadata": {},
   "outputs": [
    {
     "name": "stdout",
     "output_type": "stream",
     "text": [
      "2023-11-06 10:27:52.532435\n",
      "2023 11 6 10 27 52\n"
     ]
    }
   ],
   "source": [
    "# datetime.datetime.now()\n",
    "print(datetime.datetime.now())\n",
    "# dt = datetime.datetime(2015, 10, 21, 16, 29, 0)\n",
    "dt = datetime.datetime.now()\n",
    "print(dt.year, dt.month, dt.day, dt.hour, dt.minute, dt.second)"
   ]
  },
  {
   "cell_type": "code",
   "execution_count": 12,
   "id": "05164bd3",
   "metadata": {},
   "outputs": [
    {
     "name": "stdout",
     "output_type": "stream",
     "text": [
      "2023-11-06 10:31:59.592469\n"
     ]
    }
   ],
   "source": [
    "# datetime.datetime.fromtimestamp(num)\n",
    "print(datetime.datetime.fromtimestamp(time.time()))"
   ]
  },
  {
   "cell_type": "code",
   "execution_count": 17,
   "id": "4f1c076a",
   "metadata": {},
   "outputs": [
    {
     "name": "stdout",
     "output_type": "stream",
     "text": [
      "True\n",
      "False\n"
     ]
    }
   ],
   "source": [
    "# datetime.datetime(int, int, int, int, int, int)\n",
    "halloween2023 = datetime.datetime(2023, 10, 31, 0, 0, 0)\n",
    "newyears2024 = datetime.datetime(2024, 1, 1, 0, 0, 0)\n",
    "oct31_2023 = datetime.datetime(2023, 10, 31, 0, 0, 0)\n",
    "print(halloween2023 == oct31_2023)\n",
    "print(oct31_2023 > newyears2024)"
   ]
  },
  {
   "cell_type": "code",
   "execution_count": 31,
   "id": "7ed49f5b",
   "metadata": {},
   "outputs": [
    {
     "name": "stdout",
     "output_type": "stream",
     "text": [
      "11 days, 10:09:08\n",
      "11 36548 0\n",
      "986948.0\n"
     ]
    }
   ],
   "source": [
    "# datetime.timedelta(weeks = int, days = int, hour = int, minutes = int, seconds = int, milliseconds = int, microseconds = int)\n",
    "delta = datetime.timedelta(days=11, hours=10, minutes=9, seconds=8)\n",
    "print(delta)\n",
    "# print(str(delta))\n",
    "print(delta.days, delta.seconds, delta.microseconds) # no attribute \"hours\", \"minutes\"\n",
    "print(delta.total_seconds())  # delta.total_days(), delta.total_microseconds()"
   ]
  },
  {
   "cell_type": "code",
   "execution_count": 33,
   "id": "38e685dc",
   "metadata": {},
   "outputs": [
    {
     "name": "stdout",
     "output_type": "stream",
     "text": [
      "2023-11-06 10:54:05.519567\n",
      "2024-02-14 10:54:05.519567\n"
     ]
    }
   ],
   "source": [
    "dt = datetime.datetime.now()\n",
    "print(dt)\n",
    "# dt_100d_later = dt + 100\n",
    "dt_100d_later = dt + datetime.timedelta(days = 100)\n",
    "print(dt_100d_later)"
   ]
  },
  {
   "cell_type": "code",
   "execution_count": null,
   "id": "2700c494",
   "metadata": {},
   "outputs": [],
   "source": []
  },
  {
   "cell_type": "code",
   "execution_count": null,
   "id": "2d5304e8",
   "metadata": {},
   "outputs": [],
   "source": []
  },
  {
   "cell_type": "code",
   "execution_count": null,
   "id": "d53d03f3",
   "metadata": {},
   "outputs": [],
   "source": []
  },
  {
   "cell_type": "code",
   "execution_count": null,
   "id": "68beb553",
   "metadata": {},
   "outputs": [],
   "source": []
  },
  {
   "cell_type": "code",
   "execution_count": null,
   "id": "77a40c73",
   "metadata": {},
   "outputs": [],
   "source": []
  },
  {
   "cell_type": "code",
   "execution_count": null,
   "id": "1eb27499",
   "metadata": {},
   "outputs": [],
   "source": []
  },
  {
   "cell_type": "code",
   "execution_count": null,
   "id": "3de7b1aa",
   "metadata": {},
   "outputs": [],
   "source": []
  }
 ],
 "metadata": {
  "kernelspec": {
   "display_name": "Python 3 (ipykernel)",
   "language": "python",
   "name": "python3"
  },
  "language_info": {
   "codemirror_mode": {
    "name": "ipython",
    "version": 3
   },
   "file_extension": ".py",
   "mimetype": "text/x-python",
   "name": "python",
   "nbconvert_exporter": "python",
   "pygments_lexer": "ipython3",
   "version": "3.10.13"
  }
 },
 "nbformat": 4,
 "nbformat_minor": 5
}
