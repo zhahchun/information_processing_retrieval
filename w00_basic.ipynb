{
 "cells": [
  {
   "cell_type": "code",
   "execution_count": 7,
   "id": "299051ec",
   "metadata": {},
   "outputs": [
    {
     "ename": "SyntaxError",
     "evalue": "Missing parentheses in call to 'print'. Did you mean print(...)? (3307734641.py, line 1)",
     "output_type": "error",
     "traceback": [
      "\u001b[1;36m  Cell \u001b[1;32mIn[7], line 1\u001b[1;36m\u001b[0m\n\u001b[1;33m    print'test'\u001b[0m\n\u001b[1;37m    ^\u001b[0m\n\u001b[1;31mSyntaxError\u001b[0m\u001b[1;31m:\u001b[0m Missing parentheses in call to 'print'. Did you mean print(...)?\n"
     ]
    }
   ],
   "source": [
    "print'test'"
   ]
  },
  {
   "cell_type": "code",
   "execution_count": 8,
   "id": "6e5c9a9c",
   "metadata": {},
   "outputs": [
    {
     "data": {
      "text/plain": [
       "-2"
      ]
     },
     "execution_count": 8,
     "metadata": {},
     "output_type": "execute_result"
    }
   ],
   "source": [
    "-2"
   ]
  },
  {
   "cell_type": "code",
   "execution_count": 9,
   "id": "b0701605",
   "metadata": {},
   "outputs": [
    {
     "data": {
      "text/plain": [
       "2"
      ]
     },
     "execution_count": 9,
     "metadata": {},
     "output_type": "execute_result"
    }
   ],
   "source": [
    "+2"
   ]
  },
  {
   "cell_type": "code",
   "execution_count": 10,
   "id": "b5fc81dd",
   "metadata": {},
   "outputs": [
    {
     "data": {
      "text/plain": [
       "2"
      ]
     },
     "execution_count": 10,
     "metadata": {},
     "output_type": "execute_result"
    }
   ],
   "source": [
    "++2"
   ]
  },
  {
   "cell_type": "code",
   "execution_count": 11,
   "id": "ca02fbeb",
   "metadata": {},
   "outputs": [
    {
     "data": {
      "text/plain": [
       "4"
      ]
     },
     "execution_count": 11,
     "metadata": {},
     "output_type": "execute_result"
    }
   ],
   "source": [
    "2++2"
   ]
  },
  {
   "cell_type": "code",
   "execution_count": 12,
   "id": "7485075a",
   "metadata": {},
   "outputs": [
    {
     "ename": "SyntaxError",
     "evalue": "leading zeros in decimal integer literals are not permitted; use an 0o prefix for octal integers (690730769.py, line 1)",
     "output_type": "error",
     "traceback": [
      "\u001b[1;36m  Cell \u001b[1;32mIn[12], line 1\u001b[1;36m\u001b[0m\n\u001b[1;33m    09\u001b[0m\n\u001b[1;37m    ^\u001b[0m\n\u001b[1;31mSyntaxError\u001b[0m\u001b[1;31m:\u001b[0m leading zeros in decimal integer literals are not permitted; use an 0o prefix for octal integers\n"
     ]
    }
   ],
   "source": [
    "09"
   ]
  },
  {
   "cell_type": "code",
   "execution_count": 13,
   "id": "2cd77e83",
   "metadata": {},
   "outputs": [
    {
     "ename": "SyntaxError",
     "evalue": "leading zeros in decimal integer literals are not permitted; use an 0o prefix for octal integers (3516133457.py, line 1)",
     "output_type": "error",
     "traceback": [
      "\u001b[1;36m  Cell \u001b[1;32mIn[13], line 1\u001b[1;36m\u001b[0m\n\u001b[1;33m    011\u001b[0m\n\u001b[1;37m    ^\u001b[0m\n\u001b[1;31mSyntaxError\u001b[0m\u001b[1;31m:\u001b[0m leading zeros in decimal integer literals are not permitted; use an 0o prefix for octal integers\n"
     ]
    }
   ],
   "source": [
    "011"
   ]
  },
  {
   "cell_type": "code",
   "execution_count": 14,
   "id": "5bb550bf",
   "metadata": {},
   "outputs": [
    {
     "ename": "SyntaxError",
     "evalue": "invalid syntax (2284066281.py, line 1)",
     "output_type": "error",
     "traceback": [
      "\u001b[1;36m  Cell \u001b[1;32mIn[14], line 1\u001b[1;36m\u001b[0m\n\u001b[1;33m    1 2\u001b[0m\n\u001b[1;37m      ^\u001b[0m\n\u001b[1;31mSyntaxError\u001b[0m\u001b[1;31m:\u001b[0m invalid syntax\n"
     ]
    }
   ],
   "source": [
    "1 2"
   ]
  },
  {
   "cell_type": "code",
   "execution_count": 15,
   "id": "c40332f9",
   "metadata": {},
   "outputs": [
    {
     "data": {
      "text/plain": [
       "2562"
      ]
     },
     "execution_count": 15,
     "metadata": {},
     "output_type": "execute_result"
    }
   ],
   "source": [
    "mins = 42\n",
    "secs = 42\n",
    "mins*60 + secs"
   ]
  },
  {
   "cell_type": "code",
   "execution_count": 17,
   "id": "e108cabb",
   "metadata": {},
   "outputs": [
    {
     "data": {
      "text/plain": [
       "6.211180124223602"
      ]
     },
     "execution_count": 17,
     "metadata": {},
     "output_type": "execute_result"
    }
   ],
   "source": [
    "kilos = 10\n",
    "kilos / 1.61"
   ]
  },
  {
   "cell_type": "code",
   "execution_count": 18,
   "id": "0efcf715",
   "metadata": {},
   "outputs": [
    {
     "name": "stdout",
     "output_type": "stream",
     "text": [
      "avg_pace_min: 0.14546089283896022 \n",
      "avg_pace_sec: 0.0024243482139826703\n",
      "avg_speed_mile: 8.727653570337614\n"
     ]
    }
   ],
   "source": [
    "result_mins = mins + secs/60\n",
    "result_secs = mins*60 +secs\n",
    "miles = kilos/1.61\n",
    "avg_pace_min = miles/result_mins\n",
    "avg_pace_sec = miles/result_secs\n",
    "print('avg_pace_min:',avg_pace_min, '\\navg_pace_sec:',avg_pace_sec)\n",
    "result_hours = result_mins/60\n",
    "avg_speed_mile = miles/result_hours \n",
    "print('avg_speed_mile:',avg_speed_mile)"
   ]
  },
  {
   "cell_type": "code",
   "execution_count": 1,
   "id": "d00af5d8",
   "metadata": {},
   "outputs": [
    {
     "data": {
      "text/plain": [
       "5"
      ]
     },
     "execution_count": 1,
     "metadata": {},
     "output_type": "execute_result"
    }
   ],
   "source": [
    "5"
   ]
  },
  {
   "cell_type": "code",
   "execution_count": 2,
   "id": "e6643880",
   "metadata": {},
   "outputs": [],
   "source": [
    "x=5"
   ]
  },
  {
   "cell_type": "code",
   "execution_count": 3,
   "id": "c55b17b4",
   "metadata": {},
   "outputs": [
    {
     "data": {
      "text/plain": [
       "6"
      ]
     },
     "execution_count": 3,
     "metadata": {},
     "output_type": "execute_result"
    }
   ],
   "source": [
    "x+1"
   ]
  },
  {
   "cell_type": "code",
   "execution_count": 7,
   "id": "bf6d2116",
   "metadata": {},
   "outputs": [
    {
     "name": "stdout",
     "output_type": "stream",
     "text": [
      "6\n"
     ]
    }
   ],
   "source": [
    "5\n",
    "x=5\n",
    "# x+1\n",
    "print(x+1)"
   ]
  },
  {
   "cell_type": "code",
   "execution_count": 8,
   "id": "8c21f052",
   "metadata": {},
   "outputs": [
    {
     "ename": "SyntaxError",
     "evalue": "cannot assign to literal here. Maybe you meant '==' instead of '='? (1956984606.py, line 1)",
     "output_type": "error",
     "traceback": [
      "\u001b[1;36m  Cell \u001b[1;32mIn[8], line 1\u001b[1;36m\u001b[0m\n\u001b[1;33m    42=n\u001b[0m\n\u001b[1;37m    ^\u001b[0m\n\u001b[1;31mSyntaxError\u001b[0m\u001b[1;31m:\u001b[0m cannot assign to literal here. Maybe you meant '==' instead of '='?\n"
     ]
    }
   ],
   "source": [
    "42=n"
   ]
  },
  {
   "cell_type": "code",
   "execution_count": 9,
   "id": "0e9a314e",
   "metadata": {},
   "outputs": [],
   "source": [
    "x=y=1"
   ]
  },
  {
   "cell_type": "code",
   "execution_count": 11,
   "id": "84b36470",
   "metadata": {},
   "outputs": [],
   "source": [
    "x;"
   ]
  },
  {
   "cell_type": "code",
   "execution_count": 13,
   "id": "26d24023",
   "metadata": {},
   "outputs": [
    {
     "ename": "NameError",
     "evalue": "name 'xy' is not defined",
     "output_type": "error",
     "traceback": [
      "\u001b[1;31m---------------------------------------------------------------------------\u001b[0m",
      "\u001b[1;31mNameError\u001b[0m                                 Traceback (most recent call last)",
      "Cell \u001b[1;32mIn[13], line 1\u001b[0m\n\u001b[1;32m----> 1\u001b[0m \u001b[43mxy\u001b[49m\n",
      "\u001b[1;31mNameError\u001b[0m: name 'xy' is not defined"
     ]
    }
   ],
   "source": [
    "xy"
   ]
  },
  {
   "cell_type": "code",
   "execution_count": 16,
   "id": "e245b9dc",
   "metadata": {},
   "outputs": [
    {
     "name": "stdout",
     "output_type": "stream",
     "text": [
      "523.3333333333334\n"
     ]
    }
   ],
   "source": [
    "r = 5\n",
    "pi = 3.14\n",
    "volume = (4/3) * pi * (r**3)\n",
    "print(volume)"
   ]
  },
  {
   "cell_type": "code",
   "execution_count": 17,
   "id": "4d426696",
   "metadata": {},
   "outputs": [
    {
     "name": "stdout",
     "output_type": "stream",
     "text": [
      "945.4499999999999\n"
     ]
    }
   ],
   "source": [
    "num = 60\n",
    "cover = 24.95 * 0.6 * num\n",
    "ship = 3 + (num -1) * 0.75\n",
    "total_cost = cover + ship\n",
    "print(total_cost)"
   ]
  },
  {
   "cell_type": "code",
   "execution_count": 19,
   "id": "9dbf74fc",
   "metadata": {},
   "outputs": [
    {
     "name": "stdout",
     "output_type": "stream",
     "text": [
      "7 : 30\n"
     ]
    }
   ],
   "source": [
    "time_hour = 6\n",
    "time_min = 52\n",
    "take_sec = 2 * (8*60 + 15) + 3 * (7*60 + 12)\n",
    "take_min = take_sec // 60 #求商\n",
    "take_hour = (take_min + time_min) // 60 \n",
    "final_min = (take_min + time_min) % 60 #求餘\n",
    "print(time_hour+take_hour,':',final_min)"
   ]
  },
  {
   "cell_type": "code",
   "execution_count": null,
   "id": "57c5c230",
   "metadata": {},
   "outputs": [],
   "source": [
    "my_name = input(\"What is your name? \")\n",
    "print(\"It's good to meet you, \" + my_name)\n",
    "print(\"The length of your name is: \" + str(len(my_name)))\n",
    "my_age = input(\"\\nWhat's your age? \")\n",
    "print(\"You will be \" + str(int(my_age) + 1) + \" in a year.\")"
   ]
  },
  {
   "cell_type": "code",
   "execution_count": 1,
   "id": "dcc2f75c",
   "metadata": {},
   "outputs": [
    {
     "data": {
      "text/plain": [
       "True"
      ]
     },
     "execution_count": 1,
     "metadata": {},
     "output_type": "execute_result"
    }
   ],
   "source": [
    "'a'<'b'"
   ]
  },
  {
   "cell_type": "code",
   "execution_count": 6,
   "id": "e65986d8",
   "metadata": {},
   "outputs": [
    {
     "name": "stdout",
     "output_type": "stream",
     "text": [
      "What is your name? B\n",
      "How old are you? 18\n",
      "You are neither Alice nor a little kid.\n"
     ]
    }
   ],
   "source": [
    "name = input('What is your name? ')\n",
    "age = int(input('How old are you? '))\n",
    "if name == 'Alice':\n",
    "    print('Hi, Alice.')\n",
    "elif age < 12:\n",
    "    print('You are not Alice, kiddo.')\n",
    "# elif age > 2000:\n",
    "#     print('Unlike you, Alice is not an undead, immortal vampire.')\n",
    "# elif age > 100:\n",
    "#     print('You are not Alice, grannie.')    \n",
    "else:\n",
    "    print('You are neither Alice nor a little kid.')"
   ]
  },
  {
   "cell_type": "code",
   "execution_count": 11,
   "id": "08310401",
   "metadata": {},
   "outputs": [
    {
     "name": "stdout",
     "output_type": "stream",
     "text": [
      "What is your name? B\n",
      "What is your name? B\n",
      "What is your name? A\n",
      "Thanks!\n"
     ]
    }
   ],
   "source": [
    "name = ''\n",
    "while name != 'A':\n",
    "    name = input('What is your name? ')\n",
    "print('Thanks!')"
   ]
  },
  {
   "cell_type": "code",
   "execution_count": 12,
   "id": "27f1a424",
   "metadata": {},
   "outputs": [
    {
     "name": "stdout",
     "output_type": "stream",
     "text": [
      "What is your name? B\n",
      "What is your name? B\n",
      "What is your name? B\n",
      "What is your name? A\n",
      "Thanks!\n"
     ]
    }
   ],
   "source": [
    "while True:\n",
    "    name = input('What is your name? ')\n",
    "    if name == 'A':\n",
    "        break\n",
    "print('Thanks!')"
   ]
  },
  {
   "cell_type": "code",
   "execution_count": 15,
   "id": "b019bb37",
   "metadata": {},
   "outputs": [
    {
     "name": "stdout",
     "output_type": "stream",
     "text": [
      "What is your name? B\n",
      "What is your name? B\n",
      "What is your name? A\n",
      "Hello, A. What is the password? (It is a fish.)\n",
      "C\n",
      "Hello, A. What is the password? (It is a fish.)\n",
      "C\n",
      "Hello, A. What is the password? (It is a fish.)\n",
      "swordfish\n",
      "Access granted.\n"
     ]
    }
   ],
   "source": [
    "while True:\n",
    "    name = input('What is your name? ')\n",
    "    if name != 'A':\n",
    "        continue\n",
    "    while True:\n",
    "        print('Hello, A. What is the password? (It is a fish.)')\n",
    "        password = input()\n",
    "        if password != 'swordfish':\n",
    "            continue\n",
    "        else:\n",
    "            break\n",
    "    if password == 'swordfish':\n",
    "        break\n",
    "print('Access granted.')"
   ]
  },
  {
   "cell_type": "code",
   "execution_count": 23,
   "id": "021972d6",
   "metadata": {},
   "outputs": [
    {
     "name": "stdout",
     "output_type": "stream",
     "text": [
      "Enter your name: \n",
      "Enter your name: b\n",
      "How many guests will you have? 0\n",
      "How many guests will you have? 2\n",
      "Be sure to have enough room for all your guests.\n",
      "Done!\n"
     ]
    }
   ],
   "source": [
    "name = ''\n",
    "num_of_guests = 0\n",
    "while not name:\n",
    "    name = input('Enter your name: ')\n",
    "while not num_of_guests:\n",
    "    num_of_guests = int(input('How many guests will you have? '))\n",
    "    if num_of_guests:\n",
    "        print('Be sure to have enough room for all your guests.')\n",
    "        break\n",
    "print('Done!')"
   ]
  },
  {
   "cell_type": "code",
   "execution_count": 25,
   "id": "8f1be627",
   "metadata": {},
   "outputs": [
    {
     "name": "stdout",
     "output_type": "stream",
     "text": [
      "My name is\n",
      "Jimmy (0)\n",
      "Jimmy (1)\n",
      "Jimmy (2)\n",
      "Jimmy (3)\n",
      "Jimmy (4)\n"
     ]
    }
   ],
   "source": [
    "print('My name is')\n",
    "for i in range(5):\n",
    "    print('Jimmy five times (' + str(i) + ')')"
   ]
  },
  {
   "cell_type": "code",
   "execution_count": 26,
   "id": "5905f015",
   "metadata": {},
   "outputs": [
    {
     "name": "stdout",
     "output_type": "stream",
     "text": [
      "5050\n"
     ]
    }
   ],
   "source": [
    "total = 0\n",
    "for i in range(101):\n",
    "    total = total+i\n",
    "print(total)"
   ]
  },
  {
   "cell_type": "code",
   "execution_count": 28,
   "id": "0c2a583b",
   "metadata": {},
   "outputs": [
    {
     "name": "stdout",
     "output_type": "stream",
     "text": [
      "My name is\n",
      "Jimmy five times (0)\n",
      "Jimmy five times (1)\n",
      "Jimmy five times (2)\n",
      "Jimmy five times (3)\n",
      "Jimmy five times (4)\n"
     ]
    }
   ],
   "source": [
    "print('My name is')\n",
    "num = 0\n",
    "while num != 5:\n",
    "    print('Jimmy five times (' + str(num) + ')')\n",
    "    num += 1"
   ]
  },
  {
   "cell_type": "code",
   "execution_count": 29,
   "id": "22e32e0a",
   "metadata": {},
   "outputs": [
    {
     "name": "stdout",
     "output_type": "stream",
     "text": [
      "10\n",
      "7\n",
      "9\n",
      "3\n",
      "5\n"
     ]
    }
   ],
   "source": [
    "import random\n",
    "for i in range(5):\n",
    "    print(random.randint(1,10))"
   ]
  },
  {
   "cell_type": "code",
   "execution_count": 30,
   "id": "cc9360c6",
   "metadata": {},
   "outputs": [
    {
     "name": "stdout",
     "output_type": "stream",
     "text": [
      "Type exit to exit.n\n",
      "You type: n.\n",
      "Type exit to exit.n\n",
      "You type: n.\n",
      "Type exit to exit.exit\n"
     ]
    },
    {
     "ename": "SystemExit",
     "evalue": "",
     "output_type": "error",
     "traceback": [
      "An exception has occurred, use %tb to see the full traceback.\n",
      "\u001b[1;31mSystemExit\u001b[0m\n"
     ]
    },
    {
     "name": "stderr",
     "output_type": "stream",
     "text": [
      "C:\\Users\\ftstc\\anaconda3\\envs\\lis875\\Lib\\site-packages\\IPython\\core\\interactiveshell.py:3534: UserWarning: To exit: use 'exit', 'quit', or Ctrl-D.\n",
      "  warn(\"To exit: use 'exit', 'quit', or Ctrl-D.\", stacklevel=1)\n"
     ]
    }
   ],
   "source": [
    "import sys\n",
    "while True:\n",
    "    response = input('Type exit to exit.')\n",
    "    if response == 'exit':\n",
    "        sys.exit()\n",
    "    print('You typed: ' + response + '.')"
   ]
  },
  {
   "cell_type": "code",
   "execution_count": 2,
   "id": "93bf6edb",
   "metadata": {},
   "outputs": [
    {
     "name": "stdout",
     "output_type": "stream",
     "text": [
      "Enter the synonym for trash: 1\n",
      "Hello\n"
     ]
    }
   ],
   "source": [
    "spam = input('Enter the synonym for trash: ')\n",
    "if spam == '1':\n",
    "    print('Hello')\n",
    "elif spam == '2':\n",
    "    print('Howdy')\n",
    "else:\n",
    "    print('Greetings!')"
   ]
  },
  {
   "cell_type": "code",
   "execution_count": 3,
   "id": "77e94e5e",
   "metadata": {},
   "outputs": [
    {
     "name": "stdout",
     "output_type": "stream",
     "text": [
      "1\n",
      "2\n",
      "3\n",
      "4\n",
      "5\n",
      "6\n",
      "7\n",
      "8\n",
      "9\n",
      "10\n",
      "1\n",
      "2\n",
      "3\n",
      "4\n",
      "5\n",
      "6\n",
      "7\n",
      "8\n",
      "9\n",
      "10\n"
     ]
    }
   ],
   "source": [
    "for i in range(1,11):\n",
    "    print(i)\n",
    "num = 1\n",
    "while num != 11:\n",
    "    print(num)\n",
    "    num += 1"
   ]
  },
  {
   "cell_type": "code",
   "execution_count": 4,
   "id": "806fb97d",
   "metadata": {},
   "outputs": [
    {
     "data": {
      "text/plain": [
       "4.34"
      ]
     },
     "execution_count": 4,
     "metadata": {},
     "output_type": "execute_result"
    }
   ],
   "source": [
    "abs(-4.34)"
   ]
  },
  {
   "cell_type": "code",
   "execution_count": 5,
   "id": "666e15e8",
   "metadata": {},
   "outputs": [
    {
     "data": {
      "text/plain": [
       "-4"
      ]
     },
     "execution_count": 5,
     "metadata": {},
     "output_type": "execute_result"
    }
   ],
   "source": [
    "round(-4.34)"
   ]
  },
  {
   "cell_type": "code",
   "execution_count": 19,
   "id": "8501fe4f",
   "metadata": {},
   "outputs": [],
   "source": [
    "import pandas as pd\n",
    "import math\n",
    "def mysqrt(a, x):\n",
    "    epsilon = 0.0000001\n",
    "    while True:\n",
    "#         print(x)\n",
    "        y = (x + a/x) / 2\n",
    "        diff = abs(y-x)\n",
    "        if diff < epsilon:\n",
    "            break\n",
    "        x = y\n",
    "    return y\n",
    "\n",
    "def test_sqaure_root(a, b, x):\n",
    "    df_result = pd.DataFrame(columns=['a', 'mysqrt(a)', 'math.sqrt(a)', 'diff'])\n",
    "    for i in range(a, b):\n",
    "        y = mysqrt(i, x)\n",
    "        mathsqrt = math.sqrt(i)\n",
    "        diff = abs(mathsqrt-y)\n",
    "        df_result.loc[len(df_result)] = [i, y, mathsqrt, diff]\n",
    "    \n",
    "    df_result2 = df_result.to_string(index=False)\n",
    "    print(df_result2)\n",
    "#     print(df_result)\n",
    "#     display(df_result.hide_index)"
   ]
  },
  {
   "cell_type": "code",
   "execution_count": 20,
   "id": "713db861",
   "metadata": {},
   "outputs": [
    {
     "name": "stdout",
     "output_type": "stream",
     "text": [
      "  a  mysqrt(a)  math.sqrt(a)         diff\n",
      "1.0   1.000000      1.000000 0.000000e+00\n",
      "2.0   1.414214      1.414214 2.220446e-16\n",
      "3.0   1.732051      1.732051 0.000000e+00\n",
      "4.0   2.000000      2.000000 0.000000e+00\n",
      "5.0   2.236068      2.236068 0.000000e+00\n",
      "6.0   2.449490      2.449490 0.000000e+00\n",
      "7.0   2.645751      2.645751 0.000000e+00\n",
      "8.0   2.828427      2.828427 4.440892e-16\n",
      "9.0   3.000000      3.000000 0.000000e+00\n"
     ]
    }
   ],
   "source": [
    "test_sqaure_root(1, 10, 5)"
   ]
  },
  {
   "cell_type": "code",
   "execution_count": 26,
   "id": "74e42170",
   "metadata": {},
   "outputs": [],
   "source": [
    "def eval_loop():\n",
    "    while True:\n",
    "        want = input('What do you want to evaluate? (simple calculation, math.sqrt(), or type()) ')\n",
    "        if want == 'done':\n",
    "            print(final)\n",
    "            break\n",
    "        else:\n",
    "            try:\n",
    "                final = eval(want)\n",
    "                print(final)\n",
    "            except NameError:\n",
    "                print('The syntax is wrong. Please try again.')"
   ]
  },
  {
   "cell_type": "code",
   "execution_count": 27,
   "id": "5b9a4f1b",
   "metadata": {},
   "outputs": [
    {
     "name": "stdout",
     "output_type": "stream",
     "text": [
      "What do you want to evaluate? (simple calculation, math.sqrt(), or type()) n\n",
      "The syntax is wrong. Please try again.\n",
      "What do you want to evaluate? (simple calculation, math.sqrt(), or type()) math.sqrt(19)\n",
      "4.358898943540674\n",
      "What do you want to evaluate? (simple calculation, math.sqrt(), or type()) done\n",
      "4.358898943540674\n"
     ]
    }
   ],
   "source": [
    "eval_loop()"
   ]
  },
  {
   "cell_type": "code",
   "execution_count": 48,
   "id": "8bdb368d",
   "metadata": {},
   "outputs": [],
   "source": [
    "import math\n",
    "def estimate_pi():\n",
    "    sum_val = 0\n",
    "    tolerance = 10 ** (-15)\n",
    "    k = 0\n",
    "    while True:\n",
    "        val = (math.factorial(4*k) * (1103 + 26390*k)) / ((math.factorial(k)**4) * (396 ** (4*k)))\n",
    "        sum_val += val\n",
    "        print(\"K : {k}\\nKth sum : {s}\\nValue : {v}\\n\".format(k=k, s=sum_val, v=val)) \n",
    "        if val < tolerance:          \n",
    "            my_pi = ((2 * math.sqrt(2) / 9801) * sum_val)**(-1)\n",
    "            break\n",
    "        k += 1       \n",
    "    return my_pi"
   ]
  },
  {
   "cell_type": "code",
   "execution_count": 49,
   "id": "e7357bd8",
   "metadata": {},
   "outputs": [
    {
     "name": "stdout",
     "output_type": "stream",
     "text": [
      "K : 0\n",
      "Kth sum : 1103.0\n",
      "Value : 1103.0\n",
      "\n",
      "K : 1\n",
      "Kth sum : 1103.0000268319743\n",
      "Value : 2.6831974348925308e-05\n",
      "\n",
      "K : 2\n",
      "Kth sum : 1103.0000268319745\n",
      "Value : 2.2453850201136644e-13\n",
      "\n",
      "K : 3\n",
      "Kth sum : 1103.0000268319745\n",
      "Value : 1.995074994495897e-21\n",
      "\n",
      "my pi: 3.141592653589793\n",
      "math pi: 3.141592653589793\n",
      "diff: 0.0\n"
     ]
    }
   ],
   "source": [
    "my_pi = estimate_pi()\n",
    "math_pi = math.pi\n",
    "diff = abs(my_pi - math_pi)\n",
    "print('my pi: {0}\\nmath pi: {1}\\ndiff: {2}'.format(my_pi, math_pi, diff))"
   ]
  },
  {
   "cell_type": "code",
   "execution_count": null,
   "id": "f6dedca8",
   "metadata": {},
   "outputs": [],
   "source": []
  },
  {
   "cell_type": "code",
   "execution_count": null,
   "id": "81fd0403",
   "metadata": {},
   "outputs": [],
   "source": []
  },
  {
   "cell_type": "code",
   "execution_count": null,
   "id": "db5a1f04",
   "metadata": {},
   "outputs": [],
   "source": []
  },
  {
   "cell_type": "code",
   "execution_count": null,
   "id": "4bfd65e7",
   "metadata": {},
   "outputs": [],
   "source": []
  },
  {
   "cell_type": "code",
   "execution_count": null,
   "id": "8cac2bd5",
   "metadata": {},
   "outputs": [],
   "source": []
  }
 ],
 "metadata": {
  "kernelspec": {
   "display_name": "Python 3 (ipykernel)",
   "language": "python",
   "name": "python3"
  },
  "language_info": {
   "codemirror_mode": {
    "name": "ipython",
    "version": 3
   },
   "file_extension": ".py",
   "mimetype": "text/x-python",
   "name": "python",
   "nbconvert_exporter": "python",
   "pygments_lexer": "ipython3",
   "version": "3.11.5"
  }
 },
 "nbformat": 4,
 "nbformat_minor": 5
}
